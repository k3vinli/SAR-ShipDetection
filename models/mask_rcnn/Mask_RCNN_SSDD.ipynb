{
 "cells": [
  {
   "cell_type": "code",
   "execution_count": 27,
   "metadata": {},
   "outputs": [
    {
     "data": {
      "text/plain": [
       "<module 'MaskRCNN_model_wrapper' from '/home/k3vinli/ENEE439/Capstone/models/mask_rcnn/MaskRCNN_model_wrapper.py'>"
      ]
     },
     "execution_count": 27,
     "metadata": {},
     "output_type": "execute_result"
    }
   ],
   "source": [
    "import fiftyone as fo\n",
    "import fiftyone.utils.coco as fouc\n",
    "from fiftyone.core.labels import Detection\n",
    "from PIL import Image\n",
    "\n",
    "import torch\n",
    "import torch.nn as nn\n",
    "import torch.utils\n",
    "import torch.utils.data\n",
    "\n",
    "import torchvision\n",
    "from torchvision.models.segmentation import fcn_resnet50, FCN_ResNet50_Weights\n",
    "from torchvision.models.detection.mask_rcnn import maskrcnn_resnet50_fpn, MaskRCNNPredictor\n",
    "from torchvision.models.detection import MaskRCNN_ResNet50_FPN_Weights\n",
    "from torchvision.models.detection.faster_rcnn import FastRCNNPredictor\n",
    "\n",
    "import matplotlib.pyplot as plt\n",
    "import numpy as np\n",
    "\n",
    "import os\n",
    "import importlib\n",
    "import sys\n",
    "from pathlib import Path\n",
    "from datetime import datetime\n",
    "\n",
    "import utils\n",
    "import train\n",
    "from train import train_one_epoch, evaluate\n",
    "import transforms as T\n",
    "\n",
    "here = os.getcwd()\n",
    "sys.path.append(os.path.join(here, '..'))\n",
    "import DatasetLoaders\n",
    "importlib.reload(DatasetLoaders)\n",
    "from DatasetLoaders import HRSIDSegmentationDataset\n",
    "import MaskRCNN_model_wrapper\n",
    "from MaskRCNN_model_wrapper import MaskRCNNWrapper\n",
    "importlib.reload(MaskRCNN_model_wrapper)"
   ]
  },
  {
   "cell_type": "code",
   "execution_count": 2,
   "metadata": {},
   "outputs": [
    {
     "data": {
      "text/plain": [
       "PosixPath('/home/k3vinli/ENEE439/Capstone')"
      ]
     },
     "execution_count": 2,
     "metadata": {},
     "output_type": "execute_result"
    }
   ],
   "source": [
    "# get path to directory above\n",
    "p = Path()\n",
    "top_dir = p.absolute().parents[1]\n",
    "top_dir"
   ]
  },
  {
   "cell_type": "code",
   "execution_count": 13,
   "metadata": {},
   "outputs": [
    {
     "name": "stdout",
     "output_type": "stream",
     "text": [
      " 100% |█████████████████| 928/928 [3.4s elapsed, 0s remaining, 273.1 samples/s]      \n"
     ]
    }
   ],
   "source": [
    "name = \"SSDD_train\"\n",
    "if name in fo.list_datasets():\n",
    "    dataset_train = fo.load_dataset(name)\n",
    "else:\n",
    "    dataset_path = top_dir / \"Datasets\" / \"Official-SSDD-OPEN\" / \"BBox_RBox_PSeg_SSDD\" / \"coco_style\" / \"images\" / \"train\"\n",
    "    labels_path = top_dir / \"Datasets\" / \"Official-SSDD-OPEN\" / \"BBox_RBox_PSeg_SSDD\" / \"coco_style\" / \"annotations\" / \"train.json\"\n",
    "    # The type of the dataset being imported\n",
    "    dataset_type = fo.types.COCODetectionDataset\n",
    "\n",
    "    dataset_train = fo.Dataset.from_dir(\n",
    "        data_path=dataset_path,\n",
    "        labels_path=labels_path,\n",
    "        dataset_type=dataset_type,\n",
    "        name=name\n",
    "    )"
   ]
  },
  {
   "cell_type": "code",
   "execution_count": 12,
   "metadata": {},
   "outputs": [],
   "source": [
    "# dataset_train.delete()"
   ]
  },
  {
   "cell_type": "code",
   "execution_count": 16,
   "metadata": {},
   "outputs": [
    {
     "name": "stdout",
     "output_type": "stream",
     "text": [
      " 100% |█████████████████| 232/232 [1.0s elapsed, 0s remaining, 231.9 samples/s]         \n"
     ]
    }
   ],
   "source": [
    "name = \"SSDD_test\"\n",
    "if name in fo.list_datasets():\n",
    "    dataset_test = fo.load_dataset(name)\n",
    "else:\n",
    "    dataset_path = top_dir / \"Datasets\" / \"Official-SSDD-OPEN\" / \"BBox_RBox_PSeg_SSDD\" / \"coco_style\" / \"images\" / \"test\"\n",
    "    labels_path = top_dir / \"Datasets\" / \"Official-SSDD-OPEN\" / \"BBox_RBox_PSeg_SSDD\" / \"coco_style\" / \"annotations\" / \"test.json\"\n",
    "    # The type of the dataset being imported\n",
    "    dataset_type = fo.types.COCODetectionDataset\n",
    "\n",
    "    dataset_test = fo.Dataset.from_dir(\n",
    "        data_path=dataset_path,\n",
    "        labels_path=labels_path,\n",
    "        dataset_type=dataset_type,\n",
    "        name=name\n",
    "    )"
   ]
  },
  {
   "cell_type": "code",
   "execution_count": 15,
   "metadata": {},
   "outputs": [],
   "source": [
    "# dataset_test.delete()"
   ]
  },
  {
   "cell_type": "code",
   "execution_count": 17,
   "metadata": {},
   "outputs": [],
   "source": [
    "dataset_train.compute_metadata()\n",
    "dataset_test.compute_metadata()"
   ]
  },
  {
   "cell_type": "code",
   "execution_count": 18,
   "metadata": {},
   "outputs": [
    {
     "data": {
      "text/plain": [
       "<ImageMetadata: {\n",
       "    'size_bytes': None,\n",
       "    'mime_type': None,\n",
       "    'width': 500,\n",
       "    'height': 403,\n",
       "    'num_channels': None,\n",
       "}>"
      ]
     },
     "execution_count": 18,
     "metadata": {},
     "output_type": "execute_result"
    }
   ],
   "source": [
    "paths = dataset_train.values(\"filepath\")\n",
    "sample = dataset_train[paths[1]]\n",
    "sample.metadata"
   ]
  },
  {
   "cell_type": "code",
   "execution_count": 19,
   "metadata": {},
   "outputs": [
    {
     "data": {
      "text/plain": [
       "Name:        SSDD_train\n",
       "Media type:  image\n",
       "Num samples: 928\n",
       "Persistent:  False\n",
       "Tags:        []\n",
       "Sample fields:\n",
       "    id:            fiftyone.core.fields.ObjectIdField\n",
       "    filepath:      fiftyone.core.fields.StringField\n",
       "    tags:          fiftyone.core.fields.ListField(fiftyone.core.fields.StringField)\n",
       "    metadata:      fiftyone.core.fields.EmbeddedDocumentField(fiftyone.core.metadata.ImageMetadata)\n",
       "    detections:    fiftyone.core.fields.EmbeddedDocumentField(fiftyone.core.labels.Detections)\n",
       "    segmentations: fiftyone.core.fields.EmbeddedDocumentField(fiftyone.core.labels.Detections)"
      ]
     },
     "execution_count": 19,
     "metadata": {},
     "output_type": "execute_result"
    }
   ],
   "source": [
    "dataset_train"
   ]
  },
  {
   "cell_type": "code",
   "execution_count": 20,
   "metadata": {},
   "outputs": [
    {
     "data": {
      "text/html": [
       "\n",
       "        <iframe\n",
       "            width=\"100%\"\n",
       "            height=\"800\"\n",
       "            src=\"http://localhost:5151/?notebook=True&subscription=23119f71-ccb2-4f4d-9cd7-6ab3beb0b27f\"\n",
       "            frameborder=\"0\"\n",
       "            allowfullscreen\n",
       "            \n",
       "        ></iframe>\n",
       "        "
      ],
      "text/plain": [
       "<IPython.lib.display.IFrame at 0x7fe3a4272770>"
      ]
     },
     "metadata": {},
     "output_type": "display_data"
    }
   ],
   "source": [
    "session = fo.launch_app()"
   ]
  },
  {
   "cell_type": "code",
   "execution_count": 28,
   "metadata": {},
   "outputs": [],
   "source": [
    "maskrcnn = MaskRCNNWrapper(2, True)"
   ]
  },
  {
   "cell_type": "code",
   "execution_count": 29,
   "metadata": {},
   "outputs": [],
   "source": [
    "HRSID_train = HRSIDSegmentationDataset(dataset_train, transforms=maskrcnn.transforms)\n",
    "HRSID_test = HRSIDSegmentationDataset(dataset_test, transforms=maskrcnn.transforms)"
   ]
  },
  {
   "cell_type": "code",
   "execution_count": null,
   "metadata": {},
   "outputs": [],
   "source": [
    "def do_training(model, torch_dataset, torch_dataset_test, num_epochs=4, print_freq=10):\n",
    "    data_loader = torch.utils.data.DataLoader(\n",
    "        torch_dataset, batch_size=4, shuffle=False, num_workers=8,\n",
    "        collate_fn=utils.collate_fn\n",
    "    )\n",
    "    data_loader_test = torch.utils.data.DataLoader(\n",
    "        torch_dataset_test, batch_size=2, shuffle=False, num_workers=8,\n",
    "        collate_fn=utils.collate_fn\n",
    "    )\n",
    "\n",
    "    device = torch.device('cuda' if torch.cuda.is_available() else 'cpu')\n",
    "    print(f\"Using {device}\")\n",
    "    model.to(device)\n",
    "\n",
    "    params = [p for p in model.parameters() if p.requires_grad]\n",
    "    optimizer = torch.optim.SGD(params, lr=0.005,\n",
    "                                momentum=0.5, weight_decay=0.0005)\n",
    "\n",
    "    lr_scheduler = torch.optim.lr_scheduler.StepLR(optimizer,\n",
    "                                                    step_size=20,\n",
    "                                                    gamma=0.1)\n",
    "    for epoch in range(num_epochs):\n",
    "        train_one_epoch(model=model,\n",
    "                        optimizer=optimizer, \n",
    "                        data_loader=data_loader,\n",
    "                        device=device, \n",
    "                        epoch=epoch, \n",
    "                        print_freq=print_freq)\n",
    "        # torch.nn.utils.clip_grad_norm_(model.parameters(), 1)\n",
    "        lr_scheduler.step()\n",
    "        evaluate(model=model, data_loader=data_loader_test, device=device)"
   ]
  },
  {
   "cell_type": "code",
   "execution_count": 30,
   "metadata": {},
   "outputs": [
    {
     "name": "stdout",
     "output_type": "stream",
     "text": [
      "Using cuda\n"
     ]
    },
    {
     "ename": "TypeError",
     "evalue": "'module' object is not callable",
     "output_type": "error",
     "traceback": [
      "\u001b[0;31m---------------------------------------------------------------------------\u001b[0m",
      "\u001b[0;31mTypeError\u001b[0m                                 Traceback (most recent call last)",
      "Cell \u001b[0;32mIn[30], line 1\u001b[0m\n\u001b[0;32m----> 1\u001b[0m maskrcnn\u001b[39m.\u001b[39;49mdo_training(HRSID_train, HRSID_test, num_epochs\u001b[39m=\u001b[39;49m\u001b[39m100\u001b[39;49m, lr\u001b[39m=\u001b[39;49m\u001b[39m0.001\u001b[39;49m)\n",
      "File \u001b[0;32m~/ENEE439/Capstone/models/mask_rcnn/MaskRCNN_model_wrapper.py:82\u001b[0m, in \u001b[0;36mMaskRCNNWrapper.do_training\u001b[0;34m(self, torch_dataset, torch_dataset_test, num_epochs, lr, momentum, weight_decay, step_size, print_freq)\u001b[0m\n\u001b[1;32m     79\u001b[0m params \u001b[39m=\u001b[39m [p \u001b[39mfor\u001b[39;00m p \u001b[39min\u001b[39;00m \u001b[39mself\u001b[39m\u001b[39m.\u001b[39mmodel\u001b[39m.\u001b[39mparameters() \u001b[39mif\u001b[39;00m p\u001b[39m.\u001b[39mrequires_grad]\n\u001b[1;32m     80\u001b[0m optimizer \u001b[39m=\u001b[39m torch\u001b[39m.\u001b[39moptim\u001b[39m.\u001b[39mSGD(params, lr\u001b[39m=\u001b[39mlr, momentum\u001b[39m=\u001b[39mmomentum, weight_decay\u001b[39m=\u001b[39mweight_decay)\n\u001b[0;32m---> 82\u001b[0m lr_scheduler \u001b[39m=\u001b[39m torch\u001b[39m.\u001b[39;49moptim\u001b[39m.\u001b[39;49mlr_scheduler(optimizer,\n\u001b[1;32m     83\u001b[0m                                         step_size\u001b[39m=\u001b[39;49mstep_size,\n\u001b[1;32m     84\u001b[0m                                         gamma\u001b[39m=\u001b[39;49m\u001b[39m0.1\u001b[39;49m)\n\u001b[1;32m     86\u001b[0m \u001b[39mfor\u001b[39;00m epoch \u001b[39min\u001b[39;00m \u001b[39mrange\u001b[39m(num_epochs):\n\u001b[1;32m     87\u001b[0m     train_one_epoch(model\u001b[39m=\u001b[39m\u001b[39mself\u001b[39m\u001b[39m.\u001b[39mmodel,\n\u001b[1;32m     88\u001b[0m                     optimizer\u001b[39m=\u001b[39moptimizer,\n\u001b[1;32m     89\u001b[0m                     data_loader\u001b[39m=\u001b[39mdata_loader,\n\u001b[1;32m     90\u001b[0m                     device\u001b[39m=\u001b[39mdevice,\n\u001b[1;32m     91\u001b[0m                     epoch\u001b[39m=\u001b[39mepoch,\n\u001b[1;32m     92\u001b[0m                     print_freq\u001b[39m=\u001b[39mprint_freq)\n",
      "\u001b[0;31mTypeError\u001b[0m: 'module' object is not callable"
     ]
    }
   ],
   "source": [
    "do_training(maskrcnn.model, HRSID_train, HRSID_test, num_epochs=100)"
   ]
  }
 ],
 "metadata": {
  "kernelspec": {
   "display_name": "Python 3 (ipykernel)",
   "language": "python",
   "name": "python3"
  },
  "language_info": {
   "codemirror_mode": {
    "name": "ipython",
    "version": 3
   },
   "file_extension": ".py",
   "mimetype": "text/x-python",
   "name": "python",
   "nbconvert_exporter": "python",
   "pygments_lexer": "ipython3",
   "version": "3.10.10"
  },
  "orig_nbformat": 4
 },
 "nbformat": 4,
 "nbformat_minor": 2
}

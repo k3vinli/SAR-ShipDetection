{
 "cells": [
  {
   "cell_type": "code",
   "execution_count": 1,
   "metadata": {},
   "outputs": [
    {
     "ename": "ModuleNotFoundError",
     "evalue": "No module named 'fiftyone_evaluation'",
     "output_type": "error",
     "traceback": [
      "\u001b[0;31m---------------------------------------------------------------------------\u001b[0m",
      "\u001b[0;31mModuleNotFoundError\u001b[0m                       Traceback (most recent call last)",
      "Cell \u001b[0;32mIn[1], line 41\u001b[0m\n\u001b[1;32m     39\u001b[0m \u001b[39m# from MaskRCNN_model_wrapper import MaskRCNNWrapper\u001b[39;00m\n\u001b[1;32m     40\u001b[0m \u001b[39mfrom\u001b[39;00m \u001b[39mMaskRCNN_model_wrapper\u001b[39;00m \u001b[39mimport\u001b[39;00m do_training, save_model, get_model\n\u001b[0;32m---> 41\u001b[0m \u001b[39mimport\u001b[39;00m \u001b[39mfiftyone_evaluation\u001b[39;00m\n",
      "\u001b[0;31mModuleNotFoundError\u001b[0m: No module named 'fiftyone_evaluation'"
     ]
    }
   ],
   "source": [
    "import fiftyone as fo\n",
    "import fiftyone.utils.coco as fouc\n",
    "from fiftyone.core.labels import Detection\n",
    "from PIL import Image\n",
    "\n",
    "import torch\n",
    "import torch.nn as nn\n",
    "import torch.utils\n",
    "import torch.utils.data\n",
    "\n",
    "import torchvision\n",
    "from torchvision.models.segmentation import fcn_resnet50, FCN_ResNet50_Weights\n",
    "from torchvision.models.detection.mask_rcnn import maskrcnn_resnet50_fpn, MaskRCNNPredictor\n",
    "from torchvision.models.detection import MaskRCNN_ResNet50_FPN_Weights\n",
    "from torchvision.models.detection.faster_rcnn import FastRCNNPredictor\n",
    "\n",
    "import matplotlib.pyplot as plt\n",
    "import numpy as np\n",
    "\n",
    "import os\n",
    "import importlib\n",
    "import sys\n",
    "from pathlib import Path\n",
    "from datetime import datetime\n",
    "\n",
    "import utils\n",
    "import train\n",
    "from train import train_one_epoch, evaluate\n",
    "import transforms as T\n",
    "importlib.reload(T)\n",
    "\n",
    "here = os.getcwd()\n",
    "sys.path.append(os.path.join(here, '..'))\n",
    "import DatasetLoaders\n",
    "importlib.reload(DatasetLoaders)\n",
    "from DatasetLoaders import HRSIDSegmentationDataset\n",
    "import MaskRCNN_model_wrapper\n",
    "importlib.reload(MaskRCNN_model_wrapper)\n",
    "# from MaskRCNN_model_wrapper import MaskRCNNWrapper\n",
    "from MaskRCNN_model_wrapper import do_training, save_model, get_model\n",
    "import fiftyone_evaluation as fiftyone_evaluation\n",
    "\n"
   ]
  },
  {
   "cell_type": "code",
   "execution_count": null,
   "metadata": {},
   "outputs": [
    {
     "data": {
      "text/plain": [
       "PosixPath('/home/k3vinli/ENEE439/Capstone')"
      ]
     },
     "execution_count": 267,
     "metadata": {},
     "output_type": "execute_result"
    }
   ],
   "source": [
    "# get path to directory above\n",
    "p = Path()\n",
    "top_dir = p.absolute().parents[1]\n",
    "top_dir"
   ]
  },
  {
   "cell_type": "code",
   "execution_count": null,
   "metadata": {},
   "outputs": [],
   "source": [
    "name = \"HRSID_train\"\n",
    "if name in fo.list_datasets():\n",
    "    dataset_train = fo.load_dataset(name)\n",
    "else:\n",
    "    dataset_dir = top_dir / \"Datasets\" / \"HRSID\"\n",
    "    label_path = top_dir / \"Datasets\"/ \"HRSID\" / \"annotations\" / \"train2017.json\"\n",
    "    # The type of the dataset being imported\n",
    "    dataset_type = fo.types.COCODetectionDataset\n",
    "\n",
    "    dataset_train = fo.Dataset.from_dir(\n",
    "        dataset_dir=dataset_dir,\n",
    "        dataset_type=dataset_type,\n",
    "        name=name,\n",
    "        labels_path=label_path\n",
    "    )"
   ]
  },
  {
   "cell_type": "code",
   "execution_count": null,
   "metadata": {},
   "outputs": [],
   "source": [
    "name = \"HRSID_test\"\n",
    "if name in fo.list_datasets():\n",
    "    dataset_test = fo.load_dataset(name)\n",
    "else:\n",
    "    dataset_dir = top_dir / \"Datasets\" / \"HRSID\"\n",
    "    label_path = top_dir / \"Datasets\"/ \"HRSID\" / \"annotations\" / \"test2017.json\"\n",
    "    # The type of the dataset being imported\n",
    "    dataset_type = fo.types.COCODetectionDataset\n",
    "\n",
    "    dataset_test = fo.Dataset.from_dir(\n",
    "        dataset_dir=dataset_dir,\n",
    "        dataset_type=dataset_type,\n",
    "        name=name,\n",
    "        labels_path=label_path\n",
    "    )"
   ]
  },
  {
   "cell_type": "code",
   "execution_count": null,
   "metadata": {},
   "outputs": [],
   "source": [
    "dataset_train.compute_metadata()\n",
    "dataset_test.compute_metadata()"
   ]
  },
  {
   "cell_type": "code",
   "execution_count": null,
   "metadata": {},
   "outputs": [
    {
     "data": {
      "text/html": [
       "\n",
       "        <iframe\n",
       "            width=\"100%\"\n",
       "            height=\"800\"\n",
       "            src=\"http://localhost:5151/?notebook=True&subscription=ace49f9f-ffac-4e8d-9c67-664be80d24a6\"\n",
       "            frameborder=\"0\"\n",
       "            allowfullscreen\n",
       "            \n",
       "        ></iframe>\n",
       "        "
      ],
      "text/plain": [
       "<IPython.lib.display.IFrame at 0x7ff30a629f90>"
      ]
     },
     "metadata": {},
     "output_type": "display_data"
    }
   ],
   "source": [
    "session = fo.launch_app()"
   ]
  },
  {
   "cell_type": "code",
   "execution_count": null,
   "metadata": {},
   "outputs": [],
   "source": [
    "def get_transform_lee():\n",
    "    transforms = []\n",
    "\n",
    "    transforms.append(T.PILToTensor())\n",
    "    transforms.append(T.ConvertImageDtype(torch.float))\n",
    "    transforms.append(T.LeeFilter(5))\n",
    "    \n",
    "    return T.Compose(transforms)"
   ]
  },
  {
   "cell_type": "code",
   "execution_count": null,
   "metadata": {},
   "outputs": [],
   "source": [
    "model = get_model(2, True)"
   ]
  },
  {
   "cell_type": "code",
   "execution_count": null,
   "metadata": {},
   "outputs": [],
   "source": [
    "HRSID_torch_train_lee = HRSIDSegmentationDataset(dataset_train, transforms=get_transform_lee())\n",
    "HRSID_torch_test_lee = HRSIDSegmentationDataset(dataset_test, transforms=get_transform_lee())"
   ]
  },
  {
   "cell_type": "code",
   "execution_count": null,
   "metadata": {},
   "outputs": [
    {
     "name": "stdout",
     "output_type": "stream",
     "text": [
      "Using cuda\n",
      "Epoch: [0]  [  0/911]  eta: 1:00:17  lr: 0.000010  loss: 4.7421 (4.7421)  loss_classifier: 0.7418 (0.7418)  loss_box_reg: 0.0787 (0.0787)  loss_mask: 1.5302 (1.5302)  loss_objectness: 2.1106 (2.1106)  loss_rpn_box_reg: 0.2808 (0.2808)  time: 3.9713  data: 3.0715  max mem: 4023\n",
      "Epoch: [0]  [ 10/911]  eta: 0:13:26  lr: 0.000065  loss: 2.6409 (3.0795)  loss_classifier: 0.7125 (0.7171)  loss_box_reg: 0.1776 (0.1551)  loss_mask: 1.5022 (1.5085)  loss_objectness: 0.2470 (0.6203)  loss_rpn_box_reg: 0.0328 (0.0785)  time: 0.8954  data: 0.4384  max mem: 4195\n",
      "Epoch: [0]  [ 20/911]  eta: 0:10:06  lr: 0.000120  loss: 2.4688 (2.8632)  loss_classifier: 0.6048 (0.6077)  loss_box_reg: 0.1336 (0.1437)  loss_mask: 1.3307 (1.2719)  loss_objectness: 0.1101 (0.7513)  loss_rpn_box_reg: 0.0236 (0.0886)  time: 0.5164  data: 0.1054  max mem: 4264\n",
      "Epoch: [0]  [ 30/911]  eta: 0:08:48  lr: 0.000175  loss: 1.4049 (2.4242)  loss_classifier: 0.3711 (0.5161)  loss_box_reg: 0.1390 (0.1512)  loss_mask: 0.7305 (1.0802)  loss_objectness: 0.0692 (0.6035)  loss_rpn_box_reg: 0.0205 (0.0731)  time: 0.4372  data: 0.0325  max mem: 4264\n",
      "Epoch: [0]  [ 40/911]  eta: 0:08:07  lr: 0.000230  loss: 1.1260 (2.0991)  loss_classifier: 0.2792 (0.4496)  loss_box_reg: 0.1606 (0.1570)  loss_mask: 0.5809 (0.9280)  loss_objectness: 0.0296 (0.5019)  loss_rpn_box_reg: 0.0116 (0.0626)  time: 0.4321  data: 0.0273  max mem: 4264\n",
      "Epoch: [0]  [ 50/911]  eta: 0:07:41  lr: 0.000285  loss: 0.7112 (1.8411)  loss_classifier: 0.1862 (0.3970)  loss_box_reg: 0.1505 (0.1538)  loss_mask: 0.3855 (0.8134)  loss_objectness: 0.0192 (0.4208)  loss_rpn_box_reg: 0.0148 (0.0560)  time: 0.4359  data: 0.0277  max mem: 4264\n",
      "Epoch: [0]  [ 60/911]  eta: 0:07:21  lr: 0.000340  loss: 0.7077 (1.6698)  loss_classifier: 0.1790 (0.3627)  loss_box_reg: 0.1446 (0.1565)  loss_mask: 0.3037 (0.7312)  loss_objectness: 0.0182 (0.3657)  loss_rpn_box_reg: 0.0208 (0.0537)  time: 0.4354  data: 0.0257  max mem: 4264\n",
      "Epoch: [0]  [ 70/911]  eta: 0:07:05  lr: 0.000395  loss: 0.6966 (1.5378)  loss_classifier: 0.1572 (0.3335)  loss_box_reg: 0.1412 (0.1544)  loss_mask: 0.2969 (0.6701)  loss_objectness: 0.0116 (0.3278)  loss_rpn_box_reg: 0.0231 (0.0521)  time: 0.4284  data: 0.0246  max mem: 4276\n",
      "Epoch: [0]  [ 80/911]  eta: 0:07:01  lr: 0.000450  loss: 0.6025 (1.4317)  loss_classifier: 0.1463 (0.3139)  loss_box_reg: 0.1303 (0.1575)  loss_mask: 0.2595 (0.6179)  loss_objectness: 0.0116 (0.2931)  loss_rpn_box_reg: 0.0231 (0.0493)  time: 0.4737  data: 0.0452  max mem: 4412\n",
      "Epoch: [0]  [ 90/911]  eta: 0:07:01  lr: 0.000505  loss: 0.5567 (1.3428)  loss_classifier: 0.1557 (0.2967)  loss_box_reg: 0.1576 (0.1582)  loss_mask: 0.2301 (0.5768)  loss_objectness: 0.0078 (0.2638)  loss_rpn_box_reg: 0.0121 (0.0472)  time: 0.5429  data: 0.0445  max mem: 4412\n",
      "Epoch: [0]  [100/911]  eta: 0:07:00  lr: 0.000559  loss: 0.5530 (1.2667)  loss_classifier: 0.1507 (0.2810)  loss_box_reg: 0.1646 (0.1579)  loss_mask: 0.2345 (0.5440)  loss_objectness: 0.0062 (0.2392)  loss_rpn_box_reg: 0.0114 (0.0446)  time: 0.5594  data: 0.0245  max mem: 4412\n",
      "Epoch: [0]  [110/911]  eta: 0:06:56  lr: 0.000614  loss: 0.5522 (1.2016)  loss_classifier: 0.1402 (0.2673)  loss_box_reg: 0.1589 (0.1570)  loss_mask: 0.2164 (0.5139)  loss_objectness: 0.0069 (0.2206)  loss_rpn_box_reg: 0.0097 (0.0427)  time: 0.5457  data: 0.0232  max mem: 4412\n",
      "Epoch: [0]  [120/911]  eta: 0:06:56  lr: 0.000669  loss: 0.5766 (1.1630)  loss_classifier: 0.1333 (0.2588)  loss_box_reg: 0.1538 (0.1629)  loss_mask: 0.2058 (0.4944)  loss_objectness: 0.0091 (0.2047)  loss_rpn_box_reg: 0.0103 (0.0423)  time: 0.5695  data: 0.0257  max mem: 4419\n",
      "Epoch: [0]  [130/911]  eta: 0:06:51  lr: 0.000724  loss: 0.5225 (1.1137)  loss_classifier: 0.1155 (0.2473)  loss_box_reg: 0.1621 (0.1622)  loss_mask: 0.2059 (0.4731)  loss_objectness: 0.0074 (0.1909)  loss_rpn_box_reg: 0.0103 (0.0402)  time: 0.5726  data: 0.0271  max mem: 4419\n",
      "Epoch: [0]  [140/911]  eta: 0:06:43  lr: 0.000779  loss: 0.4481 (1.0733)  loss_classifier: 0.1035 (0.2384)  loss_box_reg: 0.1559 (0.1639)  loss_mask: 0.1804 (0.4527)  loss_objectness: 0.0047 (0.1792)  loss_rpn_box_reg: 0.0048 (0.0391)  time: 0.5063  data: 0.0246  max mem: 4419\n",
      "Epoch: [0]  [150/911]  eta: 0:06:36  lr: 0.000834  loss: 0.4725 (1.0391)  loss_classifier: 0.1128 (0.2304)  loss_box_reg: 0.1763 (0.1662)  loss_mask: 0.1678 (0.4348)  loss_objectness: 0.0067 (0.1690)  loss_rpn_box_reg: 0.0062 (0.0386)  time: 0.4787  data: 0.0228  max mem: 4419\n",
      "Epoch: [0]  [160/911]  eta: 0:06:33  lr: 0.000889  loss: 0.4615 (1.0043)  loss_classifier: 0.1037 (0.2218)  loss_box_reg: 0.1702 (0.1647)  loss_mask: 0.1678 (0.4208)  loss_objectness: 0.0048 (0.1594)  loss_rpn_box_reg: 0.0079 (0.0376)  time: 0.5232  data: 0.0269  max mem: 4419\n",
      "Epoch: [0]  [170/911]  eta: 0:06:28  lr: 0.000944  loss: 0.4366 (0.9729)  loss_classifier: 0.0905 (0.2143)  loss_box_reg: 0.1580 (0.1652)  loss_mask: 0.1645 (0.4063)  loss_objectness: 0.0045 (0.1508)  loss_rpn_box_reg: 0.0053 (0.0362)  time: 0.5482  data: 0.0241  max mem: 4419\n",
      "Epoch: [0]  [180/911]  eta: 0:06:23  lr: 0.000999  loss: 0.3865 (0.9459)  loss_classifier: 0.0837 (0.2076)  loss_box_reg: 0.1553 (0.1653)  loss_mask: 0.1516 (0.3941)  loss_objectness: 0.0045 (0.1433)  loss_rpn_box_reg: 0.0053 (0.0356)  time: 0.5351  data: 0.0221  max mem: 4450\n",
      "Epoch: [0]  [190/911]  eta: 0:06:17  lr: 0.001053  loss: 0.3865 (0.9219)  loss_classifier: 0.0751 (0.2011)  loss_box_reg: 0.1553 (0.1654)  loss_mask: 0.1665 (0.3838)  loss_objectness: 0.0044 (0.1364)  loss_rpn_box_reg: 0.0046 (0.0351)  time: 0.5116  data: 0.0244  max mem: 4450\n",
      "Epoch: [0]  [200/911]  eta: 0:06:11  lr: 0.001108  loss: 0.4308 (0.8984)  loss_classifier: 0.0802 (0.1951)  loss_box_reg: 0.1601 (0.1655)  loss_mask: 0.1922 (0.3737)  loss_objectness: 0.0032 (0.1300)  loss_rpn_box_reg: 0.0032 (0.0341)  time: 0.4994  data: 0.0229  max mem: 4450\n",
      "Epoch: [0]  [210/911]  eta: 0:06:03  lr: 0.001163  loss: 0.4239 (0.8767)  loss_classifier: 0.0743 (0.1893)  loss_box_reg: 0.1378 (0.1639)  loss_mask: 0.1677 (0.3648)  loss_objectness: 0.0032 (0.1250)  loss_rpn_box_reg: 0.0063 (0.0336)  time: 0.4841  data: 0.0228  max mem: 4450\n",
      "Epoch: [0]  [220/911]  eta: 0:05:57  lr: 0.001218  loss: 0.4103 (0.8616)  loss_classifier: 0.0743 (0.1847)  loss_box_reg: 0.1491 (0.1655)  loss_mask: 0.1623 (0.3562)  loss_objectness: 0.0073 (0.1220)  loss_rpn_box_reg: 0.0080 (0.0332)  time: 0.4644  data: 0.0222  max mem: 4450\n",
      "Epoch: [0]  [230/911]  eta: 0:05:50  lr: 0.001273  loss: 0.4103 (0.8452)  loss_classifier: 0.0758 (0.1802)  loss_box_reg: 0.1709 (0.1659)  loss_mask: 0.1632 (0.3489)  loss_objectness: 0.0073 (0.1176)  loss_rpn_box_reg: 0.0029 (0.0326)  time: 0.4732  data: 0.0246  max mem: 4450\n",
      "Epoch: [0]  [240/911]  eta: 0:05:44  lr: 0.001328  loss: 0.4441 (0.8324)  loss_classifier: 0.0746 (0.1762)  loss_box_reg: 0.1966 (0.1681)  loss_mask: 0.1532 (0.3411)  loss_objectness: 0.0039 (0.1141)  loss_rpn_box_reg: 0.0031 (0.0329)  time: 0.4813  data: 0.0282  max mem: 4450\n",
      "Epoch: [0]  [250/911]  eta: 0:05:38  lr: 0.001383  loss: 0.4296 (0.8165)  loss_classifier: 0.0715 (0.1718)  loss_box_reg: 0.1962 (0.1680)  loss_mask: 0.1404 (0.3337)  loss_objectness: 0.0028 (0.1106)  loss_rpn_box_reg: 0.0031 (0.0324)  time: 0.4771  data: 0.0233  max mem: 4494\n",
      "Epoch: [0]  [260/911]  eta: 0:05:32  lr: 0.001438  loss: 0.3749 (0.8024)  loss_classifier: 0.0575 (0.1680)  loss_box_reg: 0.1576 (0.1691)  loss_mask: 0.1490 (0.3271)  loss_objectness: 0.0028 (0.1066)  loss_rpn_box_reg: 0.0032 (0.0315)  time: 0.4788  data: 0.0204  max mem: 4655\n",
      "Epoch: [0]  [270/911]  eta: 0:05:27  lr: 0.001493  loss: 0.3652 (0.7851)  loss_classifier: 0.0543 (0.1637)  loss_box_reg: 0.1411 (0.1674)  loss_mask: 0.1515 (0.3206)  loss_objectness: 0.0043 (0.1029)  loss_rpn_box_reg: 0.0035 (0.0305)  time: 0.5045  data: 0.0210  max mem: 4655\n",
      "Epoch: [0]  [280/911]  eta: 0:05:23  lr: 0.001547  loss: 0.3448 (0.7708)  loss_classifier: 0.0528 (0.1600)  loss_box_reg: 0.1350 (0.1669)  loss_mask: 0.1464 (0.3147)  loss_objectness: 0.0029 (0.0994)  loss_rpn_box_reg: 0.0037 (0.0298)  time: 0.5190  data: 0.0198  max mem: 4655\n",
      "Epoch: [0]  [290/911]  eta: 0:05:18  lr: 0.001602  loss: 0.3655 (0.7596)  loss_classifier: 0.0534 (0.1568)  loss_box_reg: 0.1439 (0.1665)  loss_mask: 0.1640 (0.3101)  loss_objectness: 0.0035 (0.0965)  loss_rpn_box_reg: 0.0056 (0.0296)  time: 0.5197  data: 0.0216  max mem: 4655\n",
      "Epoch: [0]  [300/911]  eta: 0:05:16  lr: 0.001657  loss: 0.3466 (0.7477)  loss_classifier: 0.0485 (0.1535)  loss_box_reg: 0.1291 (0.1651)  loss_mask: 0.1757 (0.3062)  loss_objectness: 0.0044 (0.0937)  loss_rpn_box_reg: 0.0041 (0.0292)  time: 0.6147  data: 0.0227  max mem: 4655\n",
      "Epoch: [0]  [310/911]  eta: 0:05:11  lr: 0.001712  loss: 0.3389 (0.7373)  loss_classifier: 0.0483 (0.1504)  loss_box_reg: 0.1110 (0.1634)  loss_mask: 0.1751 (0.3022)  loss_objectness: 0.0031 (0.0922)  loss_rpn_box_reg: 0.0040 (0.0291)  time: 0.6126  data: 0.0227  max mem: 4655\n",
      "Epoch: [0]  [320/911]  eta: 0:05:06  lr: 0.001767  loss: 0.3354 (0.7251)  loss_classifier: 0.0502 (0.1474)  loss_box_reg: 0.1160 (0.1623)  loss_mask: 0.1556 (0.2974)  loss_objectness: 0.0030 (0.0896)  loss_rpn_box_reg: 0.0031 (0.0285)  time: 0.5161  data: 0.0214  max mem: 4655\n",
      "Epoch: [0]  [330/911]  eta: 0:05:01  lr: 0.001822  loss: 0.3237 (0.7159)  loss_classifier: 0.0502 (0.1448)  loss_box_reg: 0.1267 (0.1614)  loss_mask: 0.1461 (0.2944)  loss_objectness: 0.0021 (0.0871)  loss_rpn_box_reg: 0.0028 (0.0281)  time: 0.5243  data: 0.0217  max mem: 4655\n",
      "Epoch: [0]  [340/911]  eta: 0:04:56  lr: 0.001877  loss: 0.3451 (0.7054)  loss_classifier: 0.0465 (0.1420)  loss_box_reg: 0.1067 (0.1602)  loss_mask: 0.1403 (0.2902)  loss_objectness: 0.0027 (0.0851)  loss_rpn_box_reg: 0.0034 (0.0280)  time: 0.5332  data: 0.0232  max mem: 4655\n",
      "Epoch: [0]  [350/911]  eta: 0:04:51  lr: 0.001932  loss: 0.3412 (0.6966)  loss_classifier: 0.0493 (0.1397)  loss_box_reg: 0.1079 (0.1589)  loss_mask: 0.1345 (0.2869)  loss_objectness: 0.0054 (0.0832)  loss_rpn_box_reg: 0.0079 (0.0280)  time: 0.5332  data: 0.0239  max mem: 4655\n",
      "Epoch: [0]  [360/911]  eta: 0:04:46  lr: 0.001987  loss: 0.3390 (0.6894)  loss_classifier: 0.0409 (0.1373)  loss_box_reg: 0.1130 (0.1576)  loss_mask: 0.1716 (0.2849)  loss_objectness: 0.0054 (0.0814)  loss_rpn_box_reg: 0.0094 (0.0281)  time: 0.5142  data: 0.0210  max mem: 4655\n",
      "Epoch: [0]  [370/911]  eta: 0:04:40  lr: 0.002041  loss: 0.3465 (0.6800)  loss_classifier: 0.0390 (0.1348)  loss_box_reg: 0.0903 (0.1558)  loss_mask: 0.1927 (0.2826)  loss_objectness: 0.0023 (0.0793)  loss_rpn_box_reg: 0.0084 (0.0276)  time: 0.5001  data: 0.0198  max mem: 4655\n",
      "Epoch: [0]  [380/911]  eta: 0:04:35  lr: 0.002096  loss: 0.3398 (0.6701)  loss_classifier: 0.0363 (0.1322)  loss_box_reg: 0.0849 (0.1536)  loss_mask: 0.1736 (0.2792)  loss_objectness: 0.0008 (0.0774)  loss_rpn_box_reg: 0.0052 (0.0277)  time: 0.5236  data: 0.0218  max mem: 4655\n",
      "Epoch: [0]  [390/911]  eta: 0:04:32  lr: 0.002151  loss: 0.3015 (0.6614)  loss_classifier: 0.0341 (0.1299)  loss_box_reg: 0.0682 (0.1522)  loss_mask: 0.1583 (0.2764)  loss_objectness: 0.0021 (0.0755)  loss_rpn_box_reg: 0.0026 (0.0275)  time: 0.5943  data: 0.0223  max mem: 4775\n",
      "Epoch: [0]  [400/911]  eta: 0:04:31  lr: 0.002206  loss: 0.3414 (0.6544)  loss_classifier: 0.0379 (0.1279)  loss_box_reg: 0.0865 (0.1515)  loss_mask: 0.1657 (0.2741)  loss_objectness: 0.0026 (0.0738)  loss_rpn_box_reg: 0.0042 (0.0271)  time: 0.7570  data: 0.0227  max mem: 4883\n",
      "Epoch: [0]  [410/911]  eta: 0:04:28  lr: 0.002261  loss: 0.3423 (0.6468)  loss_classifier: 0.0387 (0.1258)  loss_box_reg: 0.1008 (0.1505)  loss_mask: 0.1657 (0.2718)  loss_objectness: 0.0026 (0.0721)  loss_rpn_box_reg: 0.0051 (0.0266)  time: 0.7820  data: 0.0227  max mem: 4883\n",
      "Epoch: [0]  [420/911]  eta: 0:04:24  lr: 0.002316  loss: 0.3458 (0.6412)  loss_classifier: 0.0395 (0.1239)  loss_box_reg: 0.1077 (0.1497)  loss_mask: 0.1706 (0.2703)  loss_objectness: 0.0035 (0.0710)  loss_rpn_box_reg: 0.0043 (0.0263)  time: 0.6791  data: 0.0221  max mem: 4883\n",
      "Epoch: [0]  [430/911]  eta: 0:04:20  lr: 0.002371  loss: 0.3733 (0.6350)  loss_classifier: 0.0479 (0.1221)  loss_box_reg: 0.1001 (0.1488)  loss_mask: 0.1902 (0.2687)  loss_objectness: 0.0031 (0.0694)  loss_rpn_box_reg: 0.0103 (0.0260)  time: 0.6668  data: 0.0223  max mem: 4883\n",
      "Epoch: [0]  [440/911]  eta: 0:04:15  lr: 0.002426  loss: 0.3615 (0.6281)  loss_classifier: 0.0384 (0.1202)  loss_box_reg: 0.0896 (0.1475)  loss_mask: 0.1958 (0.2670)  loss_objectness: 0.0021 (0.0679)  loss_rpn_box_reg: 0.0051 (0.0255)  time: 0.6276  data: 0.0235  max mem: 4883\n",
      "Epoch: [0]  [450/911]  eta: 0:04:09  lr: 0.002481  loss: 0.3475 (0.6244)  loss_classifier: 0.0364 (0.1187)  loss_box_reg: 0.0784 (0.1465)  loss_mask: 0.1981 (0.2677)  loss_objectness: 0.0010 (0.0664)  loss_rpn_box_reg: 0.0051 (0.0251)  time: 0.5491  data: 0.0237  max mem: 4883\n",
      "Epoch: [0]  [460/911]  eta: 0:04:04  lr: 0.002535  loss: 0.3458 (0.6182)  loss_classifier: 0.0362 (0.1170)  loss_box_reg: 0.0834 (0.1453)  loss_mask: 0.1981 (0.2661)  loss_objectness: 0.0014 (0.0650)  loss_rpn_box_reg: 0.0060 (0.0247)  time: 0.5596  data: 0.0227  max mem: 4883\n",
      "Epoch: [0]  [470/911]  eta: 0:03:59  lr: 0.002590  loss: 0.3248 (0.6129)  loss_classifier: 0.0308 (0.1154)  loss_box_reg: 0.0932 (0.1444)  loss_mask: 0.2059 (0.2651)  loss_objectness: 0.0014 (0.0637)  loss_rpn_box_reg: 0.0050 (0.0244)  time: 0.5668  data: 0.0239  max mem: 4883\n",
      "Epoch: [0]  [480/911]  eta: 0:03:54  lr: 0.002645  loss: 0.3445 (0.6087)  loss_classifier: 0.0416 (0.1140)  loss_box_reg: 0.1063 (0.1439)  loss_mask: 0.2058 (0.2643)  loss_objectness: 0.0012 (0.0624)  loss_rpn_box_reg: 0.0048 (0.0241)  time: 0.5768  data: 0.0230  max mem: 4937\n",
      "Epoch: [0]  [490/911]  eta: 0:03:50  lr: 0.002700  loss: 0.3104 (0.6033)  loss_classifier: 0.0416 (0.1126)  loss_box_reg: 0.0869 (0.1431)  loss_mask: 0.1784 (0.2626)  loss_objectness: 0.0030 (0.0612)  loss_rpn_box_reg: 0.0054 (0.0238)  time: 0.6436  data: 0.0208  max mem: 4937\n",
      "Epoch: [0]  [500/911]  eta: 0:03:44  lr: 0.002755  loss: 0.2736 (0.5963)  loss_classifier: 0.0335 (0.1111)  loss_box_reg: 0.0706 (0.1418)  loss_mask: 0.1458 (0.2600)  loss_objectness: 0.0012 (0.0600)  loss_rpn_box_reg: 0.0044 (0.0234)  time: 0.5936  data: 0.0216  max mem: 4937\n",
      "Epoch: [0]  [510/911]  eta: 0:03:39  lr: 0.002810  loss: 0.2525 (0.5910)  loss_classifier: 0.0333 (0.1097)  loss_box_reg: 0.0706 (0.1412)  loss_mask: 0.1388 (0.2582)  loss_objectness: 0.0007 (0.0589)  loss_rpn_box_reg: 0.0032 (0.0231)  time: 0.5383  data: 0.0218  max mem: 4939\n",
      "Epoch: [0]  [520/911]  eta: 0:03:34  lr: 0.002865  loss: 0.2719 (0.5848)  loss_classifier: 0.0332 (0.1083)  loss_box_reg: 0.0716 (0.1399)  loss_mask: 0.1504 (0.2562)  loss_objectness: 0.0004 (0.0578)  loss_rpn_box_reg: 0.0029 (0.0227)  time: 0.5782  data: 0.0225  max mem: 4939\n",
      "Epoch: [0]  [530/911]  eta: 0:03:29  lr: 0.002920  loss: 0.2506 (0.5791)  loss_classifier: 0.0297 (0.1068)  loss_box_reg: 0.0618 (0.1389)  loss_mask: 0.1458 (0.2543)  loss_objectness: 0.0005 (0.0567)  loss_rpn_box_reg: 0.0029 (0.0224)  time: 0.6183  data: 0.0226  max mem: 4939\n",
      "Epoch: [0]  [540/911]  eta: 0:03:23  lr: 0.002975  loss: 0.2904 (0.5745)  loss_classifier: 0.0318 (0.1057)  loss_box_reg: 0.0874 (0.1383)  loss_mask: 0.1577 (0.2527)  loss_objectness: 0.0005 (0.0557)  loss_rpn_box_reg: 0.0032 (0.0221)  time: 0.5908  data: 0.0226  max mem: 4939\n",
      "Epoch: [0]  [550/911]  eta: 0:03:18  lr: 0.003029  loss: 0.3123 (0.5697)  loss_classifier: 0.0348 (0.1044)  loss_box_reg: 0.0914 (0.1376)  loss_mask: 0.1617 (0.2511)  loss_objectness: 0.0010 (0.0547)  loss_rpn_box_reg: 0.0056 (0.0218)  time: 0.5361  data: 0.0220  max mem: 4939\n",
      "Epoch: [0]  [560/911]  eta: 0:03:12  lr: 0.003084  loss: 0.2902 (0.5648)  loss_classifier: 0.0319 (0.1031)  loss_box_reg: 0.0803 (0.1366)  loss_mask: 0.1647 (0.2498)  loss_objectness: 0.0007 (0.0538)  loss_rpn_box_reg: 0.0037 (0.0215)  time: 0.5260  data: 0.0211  max mem: 4939\n",
      "Epoch: [0]  [570/911]  eta: 0:03:08  lr: 0.003139  loss: 0.2902 (0.5609)  loss_classifier: 0.0335 (0.1021)  loss_box_reg: 0.0879 (0.1362)  loss_mask: 0.1738 (0.2485)  loss_objectness: 0.0005 (0.0529)  loss_rpn_box_reg: 0.0029 (0.0212)  time: 0.6961  data: 0.0223  max mem: 4939\n",
      "Epoch: [0]  [580/911]  eta: 0:03:04  lr: 0.003194  loss: 0.3017 (0.5563)  loss_classifier: 0.0341 (0.1009)  loss_box_reg: 0.0872 (0.1351)  loss_mask: 0.1738 (0.2474)  loss_objectness: 0.0006 (0.0520)  loss_rpn_box_reg: 0.0029 (0.0209)  time: 0.7723  data: 0.0243  max mem: 4939\n",
      "Epoch: [0]  [590/911]  eta: 0:03:00  lr: 0.003249  loss: 0.2632 (0.5516)  loss_classifier: 0.0304 (0.0998)  loss_box_reg: 0.0563 (0.1340)  loss_mask: 0.1708 (0.2460)  loss_objectness: 0.0007 (0.0512)  loss_rpn_box_reg: 0.0024 (0.0206)  time: 0.7711  data: 0.0238  max mem: 4939\n",
      "Epoch: [0]  [600/911]  eta: 0:02:54  lr: 0.003304  loss: 0.2632 (0.5473)  loss_classifier: 0.0332 (0.0987)  loss_box_reg: 0.0690 (0.1333)  loss_mask: 0.1575 (0.2446)  loss_objectness: 0.0009 (0.0504)  loss_rpn_box_reg: 0.0037 (0.0204)  time: 0.7344  data: 0.0217  max mem: 4939\n",
      "Epoch: [0]  [610/911]  eta: 0:02:49  lr: 0.003359  loss: 0.2371 (0.5425)  loss_classifier: 0.0293 (0.0975)  loss_box_reg: 0.0799 (0.1324)  loss_mask: 0.1461 (0.2429)  loss_objectness: 0.0005 (0.0496)  loss_rpn_box_reg: 0.0035 (0.0201)  time: 0.5934  data: 0.0214  max mem: 4939\n",
      "Epoch: [0]  [620/911]  eta: 0:02:43  lr: 0.003414  loss: 0.2694 (0.5396)  loss_classifier: 0.0299 (0.0965)  loss_box_reg: 0.0794 (0.1318)  loss_mask: 0.1508 (0.2420)  loss_objectness: 0.0004 (0.0492)  loss_rpn_box_reg: 0.0035 (0.0201)  time: 0.5999  data: 0.0227  max mem: 4939\n",
      "Epoch: [0]  [630/911]  eta: 0:02:38  lr: 0.003469  loss: 0.3002 (0.5354)  loss_classifier: 0.0290 (0.0955)  loss_box_reg: 0.0782 (0.1311)  loss_mask: 0.1675 (0.2407)  loss_objectness: 0.0006 (0.0484)  loss_rpn_box_reg: 0.0045 (0.0199)  time: 0.5861  data: 0.0232  max mem: 4939\n",
      "Epoch: [0]  [640/911]  eta: 0:02:32  lr: 0.003523  loss: 0.2530 (0.5319)  loss_classifier: 0.0203 (0.0944)  loss_box_reg: 0.0581 (0.1300)  loss_mask: 0.1496 (0.2393)  loss_objectness: 0.0009 (0.0481)  loss_rpn_box_reg: 0.0042 (0.0201)  time: 0.5402  data: 0.0225  max mem: 4939\n",
      "Epoch: [0]  [650/911]  eta: 0:02:26  lr: 0.003578  loss: 0.2544 (0.5282)  loss_classifier: 0.0243 (0.0935)  loss_box_reg: 0.0591 (0.1291)  loss_mask: 0.1392 (0.2379)  loss_objectness: 0.0040 (0.0476)  loss_rpn_box_reg: 0.0051 (0.0202)  time: 0.5460  data: 0.0223  max mem: 4939\n",
      "Epoch: [0]  [660/911]  eta: 0:02:21  lr: 0.003633  loss: 0.2544 (0.5262)  loss_classifier: 0.0254 (0.0927)  loss_box_reg: 0.0622 (0.1281)  loss_mask: 0.1460 (0.2371)  loss_objectness: 0.0076 (0.0482)  loss_rpn_box_reg: 0.0055 (0.0200)  time: 0.5529  data: 0.0219  max mem: 4939\n",
      "Epoch: [0]  [670/911]  eta: 0:02:15  lr: 0.003688  loss: 0.3448 (0.5279)  loss_classifier: 0.0702 (0.0932)  loss_box_reg: 0.0972 (0.1288)  loss_mask: 0.1672 (0.2370)  loss_objectness: 0.0219 (0.0486)  loss_rpn_box_reg: 0.0112 (0.0203)  time: 0.5658  data: 0.0240  max mem: 4939\n",
      "Epoch: [0]  [680/911]  eta: 0:02:10  lr: 0.003743  loss: 0.7203 (0.5312)  loss_classifier: 0.1386 (0.0940)  loss_box_reg: 0.1713 (0.1299)  loss_mask: 0.2428 (0.2371)  loss_objectness: 0.0804 (0.0495)  loss_rpn_box_reg: 0.0311 (0.0206)  time: 0.5927  data: 0.0262  max mem: 4939\n",
      "Epoch: [0]  [690/911]  eta: 0:02:04  lr: 0.003798  loss: 0.6259 (0.5326)  loss_classifier: 0.1346 (0.0945)  loss_box_reg: 0.1834 (0.1305)  loss_mask: 0.2329 (0.2371)  loss_objectness: 0.0782 (0.0497)  loss_rpn_box_reg: 0.0293 (0.0208)  time: 0.5874  data: 0.0243  max mem: 4939\n",
      "Epoch: [0]  [700/911]  eta: 0:01:58  lr: 0.003853  loss: 0.5778 (0.5336)  loss_classifier: 0.1079 (0.0948)  loss_box_reg: 0.1822 (0.1313)  loss_mask: 0.2265 (0.2369)  loss_objectness: 0.0362 (0.0495)  loss_rpn_box_reg: 0.0254 (0.0210)  time: 0.5761  data: 0.0229  max mem: 4939\n",
      "Epoch: [0]  [710/911]  eta: 0:01:53  lr: 0.003908  loss: 0.5715 (0.5349)  loss_classifier: 0.1065 (0.0952)  loss_box_reg: 0.1725 (0.1319)  loss_mask: 0.2198 (0.2369)  loss_objectness: 0.0450 (0.0496)  loss_rpn_box_reg: 0.0264 (0.0213)  time: 0.5693  data: 0.0242  max mem: 4939\n",
      "Epoch: [0]  [720/911]  eta: 0:01:47  lr: 0.003963  loss: 0.5113 (0.5336)  loss_classifier: 0.0938 (0.0951)  loss_box_reg: 0.1370 (0.1316)  loss_mask: 0.2002 (0.2362)  loss_objectness: 0.0423 (0.0494)  loss_rpn_box_reg: 0.0167 (0.0212)  time: 0.5578  data: 0.0232  max mem: 4939\n",
      "Epoch: [0]  [730/911]  eta: 0:01:42  lr: 0.004017  loss: 0.4773 (0.5332)  loss_classifier: 0.0938 (0.0952)  loss_box_reg: 0.1300 (0.1322)  loss_mask: 0.1751 (0.2355)  loss_objectness: 0.0235 (0.0491)  loss_rpn_box_reg: 0.0141 (0.0211)  time: 0.5746  data: 0.0237  max mem: 4939\n",
      "Epoch: [0]  [740/911]  eta: 0:01:36  lr: 0.004072  loss: 0.5290 (0.5328)  loss_classifier: 0.1050 (0.0953)  loss_box_reg: 0.1652 (0.1327)  loss_mask: 0.1825 (0.2348)  loss_objectness: 0.0253 (0.0490)  loss_rpn_box_reg: 0.0158 (0.0211)  time: 0.5795  data: 0.0231  max mem: 4939\n",
      "Epoch: [0]  [750/911]  eta: 0:01:30  lr: 0.004127  loss: 0.4778 (0.5315)  loss_classifier: 0.0728 (0.0949)  loss_box_reg: 0.1422 (0.1326)  loss_mask: 0.1845 (0.2346)  loss_objectness: 0.0162 (0.0485)  loss_rpn_box_reg: 0.0113 (0.0210)  time: 0.5978  data: 0.0558  max mem: 4939\n",
      "Epoch: [0]  [760/911]  eta: 0:01:27  lr: 0.004182  loss: 0.4080 (0.5316)  loss_classifier: 0.0412 (0.0944)  loss_box_reg: 0.0836 (0.1325)  loss_mask: 0.2249 (0.2348)  loss_objectness: 0.0091 (0.0486)  loss_rpn_box_reg: 0.0126 (0.0214)  time: 1.1593  data: 0.6130  max mem: 5133\n",
      "Epoch: [0]  [770/911]  eta: 0:01:21  lr: 0.004237  loss: 0.4363 (0.5324)  loss_classifier: 0.0503 (0.0942)  loss_box_reg: 0.1086 (0.1329)  loss_mask: 0.2387 (0.2351)  loss_objectness: 0.0094 (0.0484)  loss_rpn_box_reg: 0.0384 (0.0218)  time: 1.1219  data: 0.6051  max mem: 5133\n",
      "Epoch: [0]  [780/911]  eta: 0:01:15  lr: 0.004292  loss: 0.4249 (0.5327)  loss_classifier: 0.0452 (0.0940)  loss_box_reg: 0.0941 (0.1329)  loss_mask: 0.2387 (0.2352)  loss_objectness: 0.0072 (0.0481)  loss_rpn_box_reg: 0.0383 (0.0223)  time: 0.5664  data: 0.0826  max mem: 5190\n",
      "Epoch: [0]  [790/911]  eta: 0:01:11  lr: 0.004347  loss: 0.3890 (0.5331)  loss_classifier: 0.0405 (0.0937)  loss_box_reg: 0.0868 (0.1335)  loss_mask: 0.2240 (0.2352)  loss_objectness: 0.0068 (0.0479)  loss_rpn_box_reg: 0.0209 (0.0227)  time: 0.9103  data: 0.4109  max mem: 5190\n",
      "Epoch: [0]  [800/911]  eta: 0:01:05  lr: 0.004402  loss: 0.4497 (0.5320)  loss_classifier: 0.0423 (0.0931)  loss_box_reg: 0.0753 (0.1329)  loss_mask: 0.2257 (0.2353)  loss_objectness: 0.0080 (0.0476)  loss_rpn_box_reg: 0.0230 (0.0231)  time: 0.8762  data: 0.3824  max mem: 5190\n",
      "Epoch: [0]  [810/911]  eta: 0:01:00  lr: 0.004457  loss: 0.4798 (0.5323)  loss_classifier: 0.0480 (0.0928)  loss_box_reg: 0.1170 (0.1333)  loss_mask: 0.2389 (0.2355)  loss_objectness: 0.0084 (0.0472)  loss_rpn_box_reg: 0.0358 (0.0236)  time: 1.0961  data: 0.5983  max mem: 5190\n",
      "Epoch: [0]  [820/911]  eta: 0:00:55  lr: 0.004511  loss: 0.5481 (0.5342)  loss_classifier: 0.0636 (0.0928)  loss_box_reg: 0.1473 (0.1343)  loss_mask: 0.2622 (0.2361)  loss_objectness: 0.0123 (0.0471)  loss_rpn_box_reg: 0.0372 (0.0239)  time: 1.5063  data: 0.9384  max mem: 5488\n",
      "Epoch: [0]  [830/911]  eta: 0:00:49  lr: 0.004566  loss: 0.5737 (0.5363)  loss_classifier: 0.0805 (0.0929)  loss_box_reg: 0.1804 (0.1355)  loss_mask: 0.2720 (0.2364)  loss_objectness: 0.0168 (0.0469)  loss_rpn_box_reg: 0.0422 (0.0246)  time: 1.1849  data: 0.5826  max mem: 5488\n",
      "Epoch: [0]  [840/911]  eta: 0:00:43  lr: 0.004621  loss: 0.5595 (0.5375)  loss_classifier: 0.0572 (0.0927)  loss_box_reg: 0.1121 (0.1352)  loss_mask: 0.2748 (0.2369)  loss_objectness: 0.0168 (0.0477)  loss_rpn_box_reg: 0.0354 (0.0250)  time: 0.7849  data: 0.2289  max mem: 5488\n",
      "Epoch: [0]  [850/911]  eta: 0:00:37  lr: 0.004676  loss: 0.5441 (0.5400)  loss_classifier: 0.0806 (0.0933)  loss_box_reg: 0.1093 (0.1354)  loss_mask: 0.2293 (0.2383)  loss_objectness: 0.0336 (0.0479)  loss_rpn_box_reg: 0.0239 (0.0251)  time: 0.5382  data: 0.0142  max mem: 5488\n",
      "Epoch: [0]  [860/911]  eta: 0:00:31  lr: 0.004731  loss: 0.4839 (0.5396)  loss_classifier: 0.0796 (0.0930)  loss_box_reg: 0.1131 (0.1353)  loss_mask: 0.2629 (0.2388)  loss_objectness: 0.0192 (0.0476)  loss_rpn_box_reg: 0.0094 (0.0249)  time: 0.5438  data: 0.0223  max mem: 5488\n",
      "Epoch: [0]  [870/911]  eta: 0:00:25  lr: 0.004786  loss: 0.5795 (0.5438)  loss_classifier: 0.1010 (0.0941)  loss_box_reg: 0.1434 (0.1371)  loss_mask: 0.3277 (0.2402)  loss_objectness: 0.0227 (0.0475)  loss_rpn_box_reg: 0.0105 (0.0249)  time: 0.5667  data: 0.0359  max mem: 5488\n",
      "Epoch: [0]  [880/911]  eta: 0:00:18  lr: 0.004841  loss: 0.6200 (0.5440)  loss_classifier: 0.1245 (0.0941)  loss_box_reg: 0.1608 (0.1370)  loss_mask: 0.3163 (0.2403)  loss_objectness: 0.0278 (0.0476)  loss_rpn_box_reg: 0.0154 (0.0250)  time: 0.5887  data: 0.0451  max mem: 5488\n",
      "Epoch: [0]  [890/911]  eta: 0:00:12  lr: 0.004896  loss: 0.4799 (0.5433)  loss_classifier: 0.0741 (0.0940)  loss_box_reg: 0.1097 (0.1369)  loss_mask: 0.2095 (0.2397)  loss_objectness: 0.0179 (0.0475)  loss_rpn_box_reg: 0.0151 (0.0251)  time: 0.7277  data: 0.1649  max mem: 5488\n",
      "Epoch: [0]  [900/911]  eta: 0:00:06  lr: 0.004951  loss: 0.3892 (0.5413)  loss_classifier: 0.0496 (0.0934)  loss_box_reg: 0.0949 (0.1364)  loss_mask: 0.1997 (0.2395)  loss_objectness: 0.0087 (0.0471)  loss_rpn_box_reg: 0.0125 (0.0250)  time: 0.6863  data: 0.1499  max mem: 5488\n",
      "Epoch: [0]  [910/911]  eta: 0:00:00  lr: 0.005000  loss: 0.2757 (0.5383)  loss_classifier: 0.0275 (0.0926)  loss_box_reg: 0.0572 (0.1355)  loss_mask: 0.1837 (0.2387)  loss_objectness: 0.0040 (0.0466)  loss_rpn_box_reg: 0.0052 (0.0248)  time: 0.4911  data: 0.0148  max mem: 5488\n",
      "Epoch: [0] Total time: 0:09:17 (0.6123 s / it)\n",
      "creating index...\n",
      "index created!\n",
      "Test:  [  0/981]  eta: 0:23:29  model_time: 0.2255 (0.2255)  evaluator_time: 0.0911 (0.0911)  time: 1.4365  data: 1.1166  max mem: 5488\n",
      "Test:  [100/981]  eta: 0:02:49  model_time: 0.1214 (0.1363)  evaluator_time: 0.0135 (0.0215)  time: 0.1609  data: 0.0124  max mem: 5488\n",
      "Test:  [200/981]  eta: 0:02:29  model_time: 0.1245 (0.1352)  evaluator_time: 0.0150 (0.0228)  time: 0.2093  data: 0.0367  max mem: 5488\n",
      "Test:  [300/981]  eta: 0:02:17  model_time: 0.1298 (0.1371)  evaluator_time: 0.0217 (0.0254)  time: 0.2031  data: 0.0196  max mem: 5488\n",
      "Test:  [400/981]  eta: 0:01:53  model_time: 0.1273 (0.1362)  evaluator_time: 0.0156 (0.0255)  time: 0.1593  data: 0.0120  max mem: 5488\n",
      "Test:  [500/981]  eta: 0:01:31  model_time: 0.1324 (0.1351)  evaluator_time: 0.0252 (0.0252)  time: 0.1756  data: 0.0124  max mem: 5488\n",
      "Test:  [600/981]  eta: 0:01:11  model_time: 0.1307 (0.1340)  evaluator_time: 0.0242 (0.0244)  time: 0.1816  data: 0.0165  max mem: 5488\n",
      "Test:  [700/981]  eta: 0:00:53  model_time: 0.1373 (0.1371)  evaluator_time: 0.0261 (0.0251)  time: 0.3685  data: 0.0683  max mem: 5488\n",
      "Test:  [800/981]  eta: 0:00:39  model_time: 0.1291 (0.1462)  evaluator_time: 0.0173 (0.0341)  time: 0.6127  data: 0.3884  max mem: 5488\n"
     ]
    },
    {
     "ename": "",
     "evalue": "",
     "output_type": "error",
     "traceback": [
      "\u001b[1;31mThe Kernel crashed while executing code in the the current cell or a previous cell. Please review the code in the cell(s) to identify a possible cause of the failure. Click <a href='https://aka.ms/vscodeJupyterKernelCrash'>here</a> for more info. View Jupyter <a href='command:jupyter.viewOutput'>log</a> for further details."
     ]
    },
    {
     "ename": "",
     "evalue": "",
     "output_type": "error",
     "traceback": [
      "\u001b[1;31mCanceled future for execute_request message before replies were done"
     ]
    }
   ],
   "source": [
    "do_training(model, HRSID_torch_train_lee, HRSID_torch_test_lee, num_epochs=45, step_size=15)"
   ]
  },
  {
   "cell_type": "code",
   "execution_count": null,
   "metadata": {},
   "outputs": [],
   "source": [
    "save_model(model, \"maskrcnn_hrsid_pre_lee_e40_lr005_m5_step15.pt\")"
   ]
  },
  {
   "cell_type": "code",
   "execution_count": null,
   "metadata": {},
   "outputs": [],
   "source": [
    "fiftyone_evaluation.add_detections(model, HRSID_torch_test_lee, dataset_test, field_name=\"predictions_lee\")"
   ]
  },
  {
   "cell_type": "code",
   "execution_count": null,
   "metadata": {},
   "outputs": [],
   "source": [
    "results = fo.evaluate_detections(\n",
    "    dataset_test, \n",
    "    \"predictions_lee\", \n",
    "    classes=[\"ship\"],\n",
    "    eval_key=\"eval\", \n",
    "    compute_mAP=True,\n",
    "    gt_field='detections'\n",
    ")"
   ]
  },
  {
   "cell_type": "code",
   "execution_count": null,
   "metadata": {},
   "outputs": [],
   "source": [
    "results.mAP()"
   ]
  },
  {
   "cell_type": "code",
   "execution_count": null,
   "metadata": {},
   "outputs": [],
   "source": [
    "results.print_report()"
   ]
  },
  {
   "cell_type": "code",
   "execution_count": null,
   "metadata": {},
   "outputs": [],
   "source": [
    "def get_transform_HF_jitter():\n",
    "    transforms = []\n",
    "\n",
    "    transforms.append(T.PILToTensor())\n",
    "    transforms.append(T.ConvertImageDtype(torch.float))\n",
    "    transforms.append(T.RandomHorizontalFlip())\n",
    "    transforms.append(T.ScaleJitter((800, 800)))\n",
    "    \n",
    "    return T.Compose(transforms)"
   ]
  },
  {
   "cell_type": "code",
   "execution_count": null,
   "metadata": {},
   "outputs": [],
   "source": [
    "model = get_model(2, True)"
   ]
  },
  {
   "cell_type": "code",
   "execution_count": null,
   "metadata": {},
   "outputs": [],
   "source": [
    "HRSID_torch_train_HF_jitter = HRSIDSegmentationDataset(dataset_train, transforms=get_transform_HF_jitter())\n",
    "HRSID_torch_test_HF_jitter = HRSIDSegmentationDataset(dataset_test, transforms=get_transform_HF_jitter())"
   ]
  },
  {
   "cell_type": "code",
   "execution_count": null,
   "metadata": {},
   "outputs": [],
   "source": [
    "do_training(model, HRSID_torch_train_HF_jitter, HRSID_torch_test_HF_jitter, num_epochs=45, step_size=15)"
   ]
  },
  {
   "cell_type": "code",
   "execution_count": null,
   "metadata": {},
   "outputs": [],
   "source": [
    "save_model(model, \"maskrcnn_hrsid_pre_HF_jitter_e45_lr005_m5_step15.pt\")"
   ]
  },
  {
   "cell_type": "code",
   "execution_count": null,
   "metadata": {},
   "outputs": [],
   "source": [
    "fiftyone_evaluation.add_detections(model, HRSID_torch_test_lee, dataset_test, field_name=\"predictions_HF_jitter\")"
   ]
  },
  {
   "cell_type": "code",
   "execution_count": null,
   "metadata": {},
   "outputs": [],
   "source": [
    "results = fo.evaluate_detections(\n",
    "    dataset_test, \n",
    "    \"predictions_HF_jitter\", \n",
    "    classes=[\"ship\"],\n",
    "    eval_key=\"eval\", \n",
    "    compute_mAP=True,\n",
    "    gt_field='detections'\n",
    ")"
   ]
  },
  {
   "cell_type": "code",
   "execution_count": null,
   "metadata": {},
   "outputs": [],
   "source": [
    "results.mAP()"
   ]
  },
  {
   "cell_type": "code",
   "execution_count": null,
   "metadata": {},
   "outputs": [],
   "source": [
    "results.print_report()"
   ]
  }
 ],
 "metadata": {
  "kernelspec": {
   "display_name": "Python 3 (ipykernel)",
   "language": "python",
   "name": "python3"
  },
  "language_info": {
   "codemirror_mode": {
    "name": "ipython",
    "version": 3
   },
   "file_extension": ".py",
   "mimetype": "text/x-python",
   "name": "python",
   "nbconvert_exporter": "python",
   "pygments_lexer": "ipython3",
   "version": "3.10.10"
  },
  "orig_nbformat": 4
 },
 "nbformat": 4,
 "nbformat_minor": 2
}

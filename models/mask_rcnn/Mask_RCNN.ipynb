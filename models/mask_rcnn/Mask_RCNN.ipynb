{
 "cells": [
  {
   "attachments": {},
   "cell_type": "markdown",
   "id": "8428ba9a",
   "metadata": {},
   "source": [
    "# Setup"
   ]
  },
  {
   "cell_type": "code",
   "execution_count": 28,
   "id": "4562a1b4",
   "metadata": {},
   "outputs": [],
   "source": [
    "# was needed to download files from repo\n",
    "\n",
    "# Download TorchVision repo to use some files from\n",
    "# references/detection\n",
    "# !git clone https://github.com/pytorch/vision.git\n",
    "# !cd vision\n",
    "# !git checkout v0.3.0\n",
    "\n",
    "# !cp references/detection/utils.py ../\n",
    "# !cp references/detection/transforms.py ../\n",
    "# !cp references/detection/coco_eval.py ../\n",
    "# !cp references/detection/engine.py ../\n",
    "# !cp references/detection/coco_utils.py ../"
   ]
  },
  {
   "attachments": {},
   "cell_type": "markdown",
   "id": "b8809d0c",
   "metadata": {},
   "source": [
    "# Imports"
   ]
  },
  {
   "cell_type": "code",
   "execution_count": 29,
   "id": "ead2de20",
   "metadata": {},
   "outputs": [],
   "source": [
    "import fiftyone as fo\n",
    "import fiftyone.utils.coco as fouc\n",
    "from fiftyone.core.labels import Detection\n",
    "from PIL import Image\n",
    "\n",
    "import torch\n",
    "import torch.nn as nn\n",
    "import torch.utils\n",
    "import torch.utils.data\n",
    "\n",
    "import torchvision\n",
    "from torchvision.models.segmentation import fcn_resnet50, FCN_ResNet50_Weights\n",
    "from torchvision.models.detection.mask_rcnn import maskrcnn_resnet50_fpn, MaskRCNNPredictor\n",
    "from torchvision.models.detection import MaskRCNN_ResNet50_FPN_Weights\n",
    "from torchvision.models.detection.faster_rcnn import FastRCNNPredictor\n",
    "\n",
    "import matplotlib.pyplot as plt\n",
    "import numpy as np\n",
    "\n",
    "import os\n",
    "import importlib\n",
    "from pathlib import Path\n",
    "\n",
    "import utils\n",
    "import train\n",
    "from train import train_one_epoch, evaluate\n",
    "import transforms as T\n",
    "import ENEE439.Capstone.models.DatasetLoaders as DatasetLoaders\n",
    "importlib.reload(DatasetLoaders)\n",
    "from ENEE439.Capstone.models.DatasetLoaders import HRSIDSegmentationDataset\n"
   ]
  },
  {
   "cell_type": "code",
   "execution_count": 30,
   "id": "cc47deb7",
   "metadata": {},
   "outputs": [
    {
     "data": {
      "text/plain": [
       "<module 'train' from '/home/k3vinli/ENEE439/Capstone/models/mask_rcnn/train.py'>"
      ]
     },
     "execution_count": 30,
     "metadata": {},
     "output_type": "execute_result"
    }
   ],
   "source": [
    "importlib.reload(utils)\n",
    "importlib.reload(T)\n",
    "importlib.reload(train)"
   ]
  },
  {
   "attachments": {},
   "cell_type": "markdown",
   "id": "dbcaff5c",
   "metadata": {},
   "source": [
    "# loading data into fiftyone"
   ]
  },
  {
   "cell_type": "code",
   "execution_count": 31,
   "id": "279a7829",
   "metadata": {},
   "outputs": [
    {
     "data": {
      "text/plain": [
       "PosixPath('/home/k3vinli/ENEE439/Capstone')"
      ]
     },
     "execution_count": 31,
     "metadata": {},
     "output_type": "execute_result"
    }
   ],
   "source": [
    "p = Path()\n",
    "top_dir = p.absolute().parents[1]\n",
    "top_dir"
   ]
  },
  {
   "cell_type": "code",
   "execution_count": 32,
   "id": "c02744d1",
   "metadata": {},
   "outputs": [],
   "source": [
    "# Loading Dataset\n",
    "name = \"HRSID\"\n",
    "if name in fo.list_datasets():\n",
    "    dataset_traintest = fo.load_dataset(name)\n",
    "else:\n",
    "    dataset_dir = top_dir / \"Datasets\" / \"HRSID\"\n",
    "    # The type of the dataset being imported\n",
    "    dataset_type = fo.types.COCODetectionDataset\n",
    "\n",
    "    dataset_traintest = fo.Dataset.from_dir(\n",
    "        dataset_dir=dataset_dir,\n",
    "        dataset_type=dataset_type,\n",
    "        name=name,\n",
    "    )"
   ]
  },
  {
   "cell_type": "code",
   "execution_count": 33,
   "id": "fbe63d5c",
   "metadata": {},
   "outputs": [],
   "source": [
    "# dataset_traintest.delete()"
   ]
  },
  {
   "cell_type": "code",
   "execution_count": 34,
   "id": "f0d4b52f",
   "metadata": {},
   "outputs": [],
   "source": [
    "name = \"HRSID_train\"\n",
    "if name in fo.list_datasets():\n",
    "    dataset_train = fo.load_dataset(name)\n",
    "else:\n",
    "    dataset_dir = top_dir / \"Datasets\" / \"HRSID\"\n",
    "    label_path = top_dir / \"Datasets\"/ \"HRSID\" / \"annotations\" / \"train2017.json\"\n",
    "    # The type of the dataset being imported\n",
    "    dataset_type = fo.types.COCODetectionDataset\n",
    "\n",
    "    dataset_train = fo.Dataset.from_dir(\n",
    "        dataset_dir=dataset_dir,\n",
    "        dataset_type=dataset_type,\n",
    "        name=name,\n",
    "        labels_path=label_path\n",
    "    )"
   ]
  },
  {
   "cell_type": "code",
   "execution_count": 35,
   "id": "5c3a90e8",
   "metadata": {},
   "outputs": [],
   "source": [
    "# dataset_train.delete()"
   ]
  },
  {
   "cell_type": "code",
   "execution_count": 36,
   "id": "0b8e7141",
   "metadata": {},
   "outputs": [],
   "source": [
    "name = \"HRSID_test\"\n",
    "if name in fo.list_datasets():\n",
    "    dataset_test = fo.load_dataset(name)\n",
    "else:\n",
    "    dataset_dir = top_dir / \"Datasets\" / \"HRSID\"\n",
    "    label_path = top_dir / \"Datasets\"/ \"HRSID\" / \"annotations\" / \"test2017.json\"\n",
    "    # The type of the dataset being imported\n",
    "    dataset_type = fo.types.COCODetectionDataset\n",
    "\n",
    "    dataset_test = fo.Dataset.from_dir(\n",
    "        dataset_dir=dataset_dir,\n",
    "        dataset_type=dataset_type,\n",
    "        name=name,\n",
    "        labels_path=label_path\n",
    "    )"
   ]
  },
  {
   "cell_type": "code",
   "execution_count": 37,
   "id": "2f1b3308",
   "metadata": {},
   "outputs": [],
   "source": [
    "dataset_train.compute_metadata()\n",
    "dataset_test.compute_metadata()"
   ]
  },
  {
   "attachments": {},
   "cell_type": "markdown",
   "id": "e49c0e41",
   "metadata": {},
   "source": [
    "# explore fiftyone useage"
   ]
  },
  {
   "cell_type": "code",
   "execution_count": 38,
   "id": "3e82a450",
   "metadata": {},
   "outputs": [
    {
     "data": {
      "text/plain": [
       "<ImageMetadata: {\n",
       "    'size_bytes': None,\n",
       "    'mime_type': None,\n",
       "    'width': 800,\n",
       "    'height': 800,\n",
       "    'num_channels': None,\n",
       "}>"
      ]
     },
     "execution_count": 38,
     "metadata": {},
     "output_type": "execute_result"
    }
   ],
   "source": [
    "paths = dataset_train.values(\"filepath\")\n",
    "sample = dataset_train[paths[1]]\n",
    "sample.metadata"
   ]
  },
  {
   "cell_type": "code",
   "execution_count": 39,
   "id": "94472932",
   "metadata": {},
   "outputs": [],
   "source": [
    "#sample"
   ]
  },
  {
   "cell_type": "code",
   "execution_count": 40,
   "id": "62d3b6f0",
   "metadata": {},
   "outputs": [],
   "source": [
    "img = Image.open(paths[1]).convert(\"RGB\")\n",
    "detections = sample[\"detections\"].detections\n",
    "segmentations = sample[\"segmentations\"].detections"
   ]
  },
  {
   "cell_type": "code",
   "execution_count": 41,
   "id": "40cf5fab",
   "metadata": {},
   "outputs": [],
   "source": [
    "classes = dataset_train.distinct(\"%s.detections.label\" % \"segmentations\")"
   ]
  },
  {
   "cell_type": "code",
   "execution_count": 42,
   "id": "7122423e",
   "metadata": {},
   "outputs": [],
   "source": [
    "# segmentations"
   ]
  },
  {
   "cell_type": "code",
   "execution_count": 43,
   "id": "a993ae41",
   "metadata": {},
   "outputs": [
    {
     "data": {
      "text/plain": [
       "{'ship': 0}"
      ]
     },
     "execution_count": 43,
     "metadata": {},
     "output_type": "execute_result"
    }
   ],
   "source": [
    "labels_map_rev = {c: i for i, c in enumerate(classes)}\n",
    "labels_map_rev\n"
   ]
  },
  {
   "cell_type": "code",
   "execution_count": 44,
   "id": "e4a1e976",
   "metadata": {},
   "outputs": [],
   "source": [
    "for det in segmentations:\n",
    "    category_id=labels_map_rev[det.label]\n",
    "    coco_obj=fouc.COCOObject.from_label(det, sample.metadata, category_id=category_id)\n",
    "    x,y,w,h=coco_obj.bbox"
   ]
  },
  {
   "cell_type": "code",
   "execution_count": 45,
   "id": "a4eadd24",
   "metadata": {},
   "outputs": [],
   "source": [
    "# [coco_obj.segmentation], dtype=torch.float"
   ]
  },
  {
   "cell_type": "code",
   "execution_count": 46,
   "id": "ca678797",
   "metadata": {},
   "outputs": [
    {
     "name": "stdout",
     "output_type": "stream",
     "text": [
      "<class 'fiftyone.core.labels.Detection'>\n",
      "frame size (800, 800)\n",
      "detection: <Detection: {\n",
      "    'id': '645526021951373c4285f5de',\n",
      "    'attributes': {},\n",
      "    'tags': [],\n",
      "    'label': 'ship',\n",
      "    'bounding_box': [0.29625, 0.09875, 0.0525, 0.01],\n",
      "    'mask': array([[False, False, False, False, False, False, False, False, False,\n",
      "            False, False, False, False, False, False, False,  True,  True,\n",
      "             True,  True,  True,  True,  True,  True,  True,  True,  True,\n",
      "             True,  True,  True,  True,  True,  True,  True,  True,  True,\n",
      "             True,  True, False, False, False, False],\n",
      "           [False,  True,  True,  True,  True,  True,  True,  True,  True,\n",
      "             True,  True,  True,  True,  True,  True,  True,  True,  True,\n",
      "             True,  True,  True,  True,  True,  True,  True,  True,  True,\n",
      "             True,  True,  True,  True,  True,  True,  True,  True,  True,\n",
      "             True,  True,  True,  True,  True, False],\n",
      "           [ True,  True,  True,  True,  True,  True,  True,  True,  True,\n",
      "             True,  True,  True,  True,  True,  True,  True,  True,  True,\n",
      "             True,  True,  True,  True,  True,  True,  True,  True,  True,\n",
      "             True,  True,  True,  True,  True,  True,  True,  True,  True,\n",
      "             True,  True,  True,  True,  True, False],\n",
      "           [False, False,  True,  True,  True,  True,  True,  True,  True,\n",
      "             True,  True,  True,  True,  True,  True,  True,  True,  True,\n",
      "             True,  True,  True,  True,  True,  True,  True,  True,  True,\n",
      "             True,  True,  True,  True,  True,  True,  True,  True,  True,\n",
      "             True,  True,  True,  True, False, False],\n",
      "           [False, False, False, False, False,  True,  True,  True,  True,\n",
      "             True,  True,  True,  True,  True,  True,  True,  True,  True,\n",
      "             True,  True,  True,  True,  True,  True,  True,  True,  True,\n",
      "             True,  True,  True,  True,  True,  True,  True,  True,  True,\n",
      "             True,  True, False, False, False, False],\n",
      "           [False, False, False, False, False, False, False, False,  True,\n",
      "             True,  True,  True,  True,  True,  True,  True,  True,  True,\n",
      "             True,  True,  True,  True,  True,  True,  True,  True,  True,\n",
      "             True,  True,  True,  True,  True,  True,  True,  True,  True,\n",
      "            False, False, False, False, False, False],\n",
      "           [False, False, False, False, False, False, False, False, False,\n",
      "             True,  True,  True,  True,  True,  True,  True,  True, False,\n",
      "            False, False, False, False, False, False, False, False, False,\n",
      "            False, False, False,  True,  True,  True,  True, False, False,\n",
      "            False, False, False, False, False, False],\n",
      "           [False, False, False, False, False, False, False, False, False,\n",
      "            False, False, False, False, False, False, False, False, False,\n",
      "            False, False, False, False, False, False, False, False, False,\n",
      "            False, False, False, False, False, False, False, False, False,\n",
      "            False, False, False, False, False, False]]),\n",
      "    'confidence': None,\n",
      "    'index': None,\n",
      "    'iscrowd': 0,\n",
      "}>\n",
      "segmentation: <Segmentation: {\n",
      "    'id': '645526281951373c42862bc8',\n",
      "    'tags': [],\n",
      "    'mask': array([[0, 0, 0, ..., 0, 0, 0],\n",
      "           [0, 0, 0, ..., 0, 0, 0],\n",
      "           [0, 0, 0, ..., 0, 0, 0],\n",
      "           ...,\n",
      "           [0, 0, 0, ..., 0, 0, 0],\n",
      "           [0, 0, 0, ..., 0, 0, 0],\n",
      "           [0, 0, 0, ..., 0, 0, 0]], dtype=uint8),\n",
      "    'mask_path': None,\n",
      "}>\n",
      "full img 255\n"
     ]
    }
   ],
   "source": [
    "sample = dataset_test.first()\n",
    "frame_size = (sample.metadata[\"width\"], sample.metadata[\"height\"])\n",
    "detection = sample[\"segmentations\"][\"detections\"][0]\n",
    "\n",
    "segmentation = detection.to_segmentation(frame_size=frame_size)\n",
    "full_img_mask = segmentation.mask\n",
    "print(type(detection))\n",
    "print(\"frame size\", frame_size)\n",
    "print(\"detection:\", detection)\n",
    "print(\"segmentation:\", segmentation)\n",
    "print(\"full img\", full_img_mask.max())"
   ]
  },
  {
   "cell_type": "code",
   "execution_count": 47,
   "id": "256fa90c",
   "metadata": {},
   "outputs": [
    {
     "data": {
      "text/html": [
       "\n",
       "        <iframe\n",
       "            width=\"100%\"\n",
       "            height=\"800\"\n",
       "            src=\"http://localhost:5151/?notebook=True&subscription=109831b1-e246-43c2-9617-f8b07203f762\"\n",
       "            frameborder=\"0\"\n",
       "            allowfullscreen\n",
       "            \n",
       "        ></iframe>\n",
       "        "
      ],
      "text/plain": [
       "<IPython.lib.display.IFrame at 0x7fa182e229e0>"
      ]
     },
     "metadata": {},
     "output_type": "display_data"
    }
   ],
   "source": [
    "session = fo.launch_app()"
   ]
  },
  {
   "attachments": {},
   "cell_type": "markdown",
   "id": "e51f040a",
   "metadata": {},
   "source": [
    "# Training ResNet Model"
   ]
  },
  {
   "cell_type": "code",
   "execution_count": 48,
   "id": "ec2c4deb",
   "metadata": {},
   "outputs": [],
   "source": [
    "def get_model(num_classes, pretrained=True):\n",
    "    if pretrained:\n",
    "        weights = MaskRCNN_ResNet50_FPN_Weights.DEFAULT\n",
    "    else:\n",
    "        weights = None\n",
    "    model = maskrcnn_resnet50_fpn(weights=weights)\n",
    "\n",
    "    # get number of input features for the classifier\n",
    "    in_features = model.roi_heads.box_predictor.cls_score.in_features\n",
    "    # replace the pre-trained head with a new one\n",
    "    model.roi_heads.box_predictor = FastRCNNPredictor(in_features, num_classes)\n",
    "\n",
    "    # now get the number of input features for the mask classifier\n",
    "    in_features_mask = model.roi_heads.mask_predictor.conv5_mask.in_channels\n",
    "    hidden_layer = 256\n",
    "    # and replace the mask predictor with a new one\n",
    "    model.roi_heads.mask_predictor = MaskRCNNPredictor(in_features_mask,\n",
    "                                                       hidden_layer,\n",
    "                                                       num_classes)\n",
    "\n",
    "    return model"
   ]
  },
  {
   "cell_type": "code",
   "execution_count": 49,
   "id": "348f6adf",
   "metadata": {},
   "outputs": [],
   "source": [
    "def get_transform():\n",
    "    transforms = []\n",
    "    transforms.append(T.PILToTensor())\n",
    "    transforms.append(T.ConvertImageDtype(torch.float))\n",
    "    \n",
    "    return T.Compose(transforms)"
   ]
  },
  {
   "cell_type": "code",
   "execution_count": 58,
   "id": "2d3c0b48",
   "metadata": {},
   "outputs": [],
   "source": [
    "def do_training(model, torch_dataset, torch_dataset_test, num_epochs=4, print_freq=10):\n",
    "    data_loader = torch.utils.data.DataLoader(\n",
    "        torch_dataset, batch_size=4, shuffle=False, num_workers=8,\n",
    "        collate_fn=utils.collate_fn\n",
    "    )\n",
    "    data_loader_test = torch.utils.data.DataLoader(\n",
    "        torch_dataset_test, batch_size=2, shuffle=False, num_workers=8,\n",
    "        collate_fn=utils.collate_fn\n",
    "    )\n",
    "\n",
    "    device = torch.device('cuda' if torch.cuda.is_available() else 'cpu')\n",
    "    print(f\"Using {device}\")\n",
    "    model.to(device)\n",
    "\n",
    "    params = [p for p in model.parameters() if p.requires_grad]\n",
    "    optimizer = torch.optim.SGD(params, lr=0.001,\n",
    "                                momentum=0.5, weight_decay=0.0005)\n",
    "\n",
    "    lr_scheduler = torch.optim.lr_scheduler.StepLR(optimizer,\n",
    "                                                    step_size=5,\n",
    "                                                    gamma=0.1)\n",
    "    for epoch in range(num_epochs):\n",
    "        train_one_epoch(model=model,\n",
    "                        optimizer=optimizer, \n",
    "                        data_loader=data_loader,\n",
    "                        device=device, \n",
    "                        epoch=epoch, \n",
    "                        print_freq=print_freq)\n",
    "        torch.nn.utils.clip_grad_norm_(model.parameters(), 1)\n",
    "        lr_scheduler.step()\n",
    "        evaluate(model=model, data_loader=data_loader_test, device=device)"
   ]
  },
  {
   "cell_type": "code",
   "execution_count": 51,
   "id": "234e99fa",
   "metadata": {},
   "outputs": [],
   "source": [
    "HRSID_train = HRSIDSegmentationDataset(dataset_train, transforms=get_transform())\n",
    "HRSID_test = HRSIDSegmentationDataset(dataset_test, transforms=get_transform())"
   ]
  },
  {
   "cell_type": "code",
   "execution_count": 52,
   "id": "8d69b199",
   "metadata": {},
   "outputs": [
    {
     "data": {
      "text/plain": [
       "array([0, 0, 0, 1, 1, 0, 0, 0])"
      ]
     },
     "execution_count": 52,
     "metadata": {},
     "output_type": "execute_result"
    }
   ],
   "source": [
    "x = np.array([0,0,0,255,255,0,0,0])\n",
    "np.clip(x, 0, 1)"
   ]
  },
  {
   "cell_type": "code",
   "execution_count": 59,
   "id": "77d45d8a",
   "metadata": {},
   "outputs": [],
   "source": [
    "model = get_model(2)"
   ]
  },
  {
   "cell_type": "code",
   "execution_count": 60,
   "id": "ee8edf58",
   "metadata": {},
   "outputs": [
    {
     "name": "stdout",
     "output_type": "stream",
     "text": [
      "Using cuda\n",
      "Epoch: [0]  [  0/911]  eta: 0:59:40  lr: 0.000002  loss: 5.1333 (5.1333)  loss_classifier: 0.5706 (0.5706)  loss_box_reg: 0.0896 (0.0896)  loss_mask: 2.2855 (2.2855)  loss_objectness: 1.9364 (1.9364)  loss_rpn_box_reg: 0.2512 (0.2512)  time: 3.9298  data: 3.4212  max mem: 4254\n",
      "Epoch: [0]  [ 10/911]  eta: 0:11:59  lr: 0.000013  loss: 2.8339 (3.1338)  loss_classifier: 0.5309 (0.5410)  loss_box_reg: 0.1633 (0.1509)  loss_mask: 1.7565 (1.7786)  loss_objectness: 0.2123 (0.5874)  loss_rpn_box_reg: 0.0288 (0.0760)  time: 0.7989  data: 0.3470  max mem: 4437\n",
      "Epoch: [0]  [ 20/911]  eta: 0:09:21  lr: 0.000024  loss: 2.7271 (3.2279)  loss_classifier: 0.5216 (0.5244)  loss_box_reg: 0.1254 (0.1370)  loss_mask: 1.6735 (1.7578)  loss_objectness: 0.1401 (0.7259)  loss_rpn_box_reg: 0.0264 (0.0829)  time: 0.4648  data: 0.0264  max mem: 4457\n",
      "Epoch: [0]  [ 30/911]  eta: 0:08:24  lr: 0.000035  loss: 2.3342 (2.9703)  loss_classifier: 0.4812 (0.4997)  loss_box_reg: 0.1264 (0.1417)  loss_mask: 1.5860 (1.6361)  loss_objectness: 0.1278 (0.6235)  loss_rpn_box_reg: 0.0192 (0.0693)  time: 0.4473  data: 0.0160  max mem: 4457\n",
      "Epoch: [0]  [ 40/911]  eta: 0:07:51  lr: 0.000046  loss: 1.8378 (2.7214)  loss_classifier: 0.4161 (0.4731)  loss_box_reg: 0.1520 (0.1466)  loss_mask: 1.1733 (1.4947)  loss_objectness: 0.0729 (0.5464)  loss_rpn_box_reg: 0.0129 (0.0607)  time: 0.4491  data: 0.0189  max mem: 4457\n",
      "Epoch: [0]  [ 50/911]  eta: 0:07:30  lr: 0.000057  loss: 1.5757 (2.4819)  loss_classifier: 0.3533 (0.4432)  loss_box_reg: 0.1447 (0.1414)  loss_mask: 0.9015 (1.3561)  loss_objectness: 0.0644 (0.4868)  loss_rpn_box_reg: 0.0147 (0.0543)  time: 0.4483  data: 0.0192  max mem: 4457\n",
      "Epoch: [0]  [ 60/911]  eta: 0:07:14  lr: 0.000068  loss: 1.2087 (2.2955)  loss_classifier: 0.2985 (0.4164)  loss_box_reg: 0.1097 (0.1421)  loss_mask: 0.6719 (1.2434)  loss_objectness: 0.0644 (0.4408)  loss_rpn_box_reg: 0.0217 (0.0527)  time: 0.4469  data: 0.0183  max mem: 4457\n",
      "Epoch: [0]  [ 70/911]  eta: 0:07:01  lr: 0.000079  loss: 1.1372 (2.1455)  loss_classifier: 0.2481 (0.3896)  loss_box_reg: 0.1392 (0.1382)  loss_mask: 0.6213 (1.1501)  loss_objectness: 0.0441 (0.4153)  loss_rpn_box_reg: 0.0251 (0.0522)  time: 0.4445  data: 0.0202  max mem: 4457\n",
      "Epoch: [0]  [ 80/911]  eta: 0:06:54  lr: 0.000090  loss: 0.9059 (2.0118)  loss_classifier: 0.2100 (0.3680)  loss_box_reg: 0.1169 (0.1390)  loss_mask: 0.5126 (1.0669)  loss_objectness: 0.0343 (0.3872)  loss_rpn_box_reg: 0.0252 (0.0507)  time: 0.4652  data: 0.0412  max mem: 4552\n",
      "Epoch: [0]  [ 90/911]  eta: 0:06:44  lr: 0.000101  loss: 0.8175 (1.9019)  loss_classifier: 0.1934 (0.3482)  loss_box_reg: 0.1175 (0.1379)  loss_mask: 0.4549 (0.9979)  loss_objectness: 0.0182 (0.3688)  loss_rpn_box_reg: 0.0240 (0.0491)  time: 0.4625  data: 0.0393  max mem: 4552\n",
      "Epoch: [0]  [100/911]  eta: 0:06:34  lr: 0.000112  loss: 0.7416 (1.7959)  loss_classifier: 0.1757 (0.3301)  loss_box_reg: 0.1303 (0.1367)  loss_mask: 0.4081 (0.9400)  loss_objectness: 0.0154 (0.3420)  loss_rpn_box_reg: 0.0153 (0.0469)  time: 0.4364  data: 0.0181  max mem: 4552\n",
      "Epoch: [0]  [110/911]  eta: 0:06:26  lr: 0.000123  loss: 0.6873 (1.7026)  loss_classifier: 0.1695 (0.3141)  loss_box_reg: 0.1230 (0.1349)  loss_mask: 0.3516 (0.8852)  loss_objectness: 0.0136 (0.3230)  loss_rpn_box_reg: 0.0169 (0.0453)  time: 0.4355  data: 0.0179  max mem: 4552\n",
      "Epoch: [0]  [120/911]  eta: 0:06:18  lr: 0.000134  loss: 0.7097 (1.6477)  loss_classifier: 0.1528 (0.3023)  loss_box_reg: 0.1183 (0.1378)  loss_mask: 0.3409 (0.8455)  loss_objectness: 0.0136 (0.3164)  loss_rpn_box_reg: 0.0189 (0.0457)  time: 0.4397  data: 0.0188  max mem: 4552\n",
      "Epoch: [0]  [130/911]  eta: 0:06:11  lr: 0.000145  loss: 0.6767 (1.5759)  loss_classifier: 0.1401 (0.2892)  loss_box_reg: 0.1216 (0.1365)  loss_mask: 0.3505 (0.8081)  loss_objectness: 0.0149 (0.2980)  loss_rpn_box_reg: 0.0203 (0.0442)  time: 0.4404  data: 0.0187  max mem: 4552\n",
      "Epoch: [0]  [140/911]  eta: 0:06:05  lr: 0.000156  loss: 0.5753 (1.5156)  loss_classifier: 0.1263 (0.2789)  loss_box_reg: 0.1216 (0.1373)  loss_mask: 0.3111 (0.7714)  loss_objectness: 0.0085 (0.2847)  loss_rpn_box_reg: 0.0166 (0.0434)  time: 0.4415  data: 0.0188  max mem: 4552\n",
      "Epoch: [0]  [150/911]  eta: 0:05:58  lr: 0.000167  loss: 0.5666 (1.4632)  loss_classifier: 0.1350 (0.2702)  loss_box_reg: 0.1390 (0.1381)  loss_mask: 0.2723 (0.7395)  loss_objectness: 0.0093 (0.2721)  loss_rpn_box_reg: 0.0166 (0.0433)  time: 0.4424  data: 0.0190  max mem: 4552\n",
      "Epoch: [0]  [160/911]  eta: 0:05:52  lr: 0.000178  loss: 0.5666 (1.4093)  loss_classifier: 0.1268 (0.2601)  loss_box_reg: 0.1143 (0.1350)  loss_mask: 0.2738 (0.7134)  loss_objectness: 0.0102 (0.2578)  loss_rpn_box_reg: 0.0251 (0.0430)  time: 0.4372  data: 0.0216  max mem: 4552\n",
      "Epoch: [0]  [170/911]  eta: 0:05:46  lr: 0.000189  loss: 0.5245 (1.3592)  loss_classifier: 0.1037 (0.2517)  loss_box_reg: 0.1031 (0.1343)  loss_mask: 0.2610 (0.6866)  loss_objectness: 0.0088 (0.2444)  loss_rpn_box_reg: 0.0222 (0.0422)  time: 0.4345  data: 0.0186  max mem: 4552\n",
      "Epoch: [0]  [180/911]  eta: 0:05:40  lr: 0.000200  loss: 0.5040 (1.3172)  loss_classifier: 0.1154 (0.2447)  loss_box_reg: 0.1113 (0.1345)  loss_mask: 0.2374 (0.6635)  loss_objectness: 0.0076 (0.2326)  loss_rpn_box_reg: 0.0201 (0.0418)  time: 0.4380  data: 0.0167  max mem: 4552\n",
      "Epoch: [0]  [190/911]  eta: 0:05:34  lr: 0.000211  loss: 0.4914 (1.2788)  loss_classifier: 0.1068 (0.2384)  loss_box_reg: 0.1224 (0.1350)  loss_mask: 0.2374 (0.6421)  loss_objectness: 0.0056 (0.2220)  loss_rpn_box_reg: 0.0096 (0.0413)  time: 0.4372  data: 0.0183  max mem: 4565\n",
      "Epoch: [0]  [200/911]  eta: 0:05:28  lr: 0.000222  loss: 0.5102 (1.2420)  loss_classifier: 0.1155 (0.2324)  loss_box_reg: 0.1290 (0.1349)  loss_mask: 0.2267 (0.6229)  loss_objectness: 0.0072 (0.2116)  loss_rpn_box_reg: 0.0075 (0.0402)  time: 0.4342  data: 0.0172  max mem: 4565\n",
      "Epoch: [0]  [210/911]  eta: 0:05:23  lr: 0.000233  loss: 0.4958 (1.2101)  loss_classifier: 0.1081 (0.2264)  loss_box_reg: 0.1206 (0.1341)  loss_mask: 0.2241 (0.6041)  loss_objectness: 0.0086 (0.2053)  loss_rpn_box_reg: 0.0114 (0.0402)  time: 0.4331  data: 0.0181  max mem: 4565\n",
      "Epoch: [0]  [220/911]  eta: 0:05:18  lr: 0.000244  loss: 0.4841 (1.1843)  loss_classifier: 0.1140 (0.2220)  loss_box_reg: 0.1350 (0.1357)  loss_mask: 0.2121 (0.5868)  loss_objectness: 0.0098 (0.2000)  loss_rpn_box_reg: 0.0127 (0.0398)  time: 0.4374  data: 0.0181  max mem: 4565\n",
      "Epoch: [0]  [230/911]  eta: 0:05:14  lr: 0.000255  loss: 0.5112 (1.1591)  loss_classifier: 0.1228 (0.2179)  loss_box_reg: 0.1667 (0.1368)  loss_mask: 0.2225 (0.5715)  loss_objectness: 0.0117 (0.1937)  loss_rpn_box_reg: 0.0103 (0.0392)  time: 0.4657  data: 0.0408  max mem: 4565\n",
      "Epoch: [0]  [240/911]  eta: 0:05:09  lr: 0.000266  loss: 0.5482 (1.1386)  loss_classifier: 0.1350 (0.2150)  loss_box_reg: 0.1745 (0.1397)  loss_mask: 0.2184 (0.5566)  loss_objectness: 0.0127 (0.1875)  loss_rpn_box_reg: 0.0100 (0.0397)  time: 0.4746  data: 0.0438  max mem: 4565\n",
      "Epoch: [0]  [250/911]  eta: 0:05:04  lr: 0.000277  loss: 0.5422 (1.1150)  loss_classifier: 0.1264 (0.2111)  loss_box_reg: 0.1745 (0.1407)  loss_mask: 0.1805 (0.5426)  loss_objectness: 0.0125 (0.1814)  loss_rpn_box_reg: 0.0087 (0.0392)  time: 0.4507  data: 0.0193  max mem: 4565\n",
      "Epoch: [0]  [260/911]  eta: 0:04:59  lr: 0.000288  loss: 0.5020 (1.0949)  loss_classifier: 0.1158 (0.2084)  loss_box_reg: 0.1645 (0.1435)  loss_mask: 0.1965 (0.5301)  loss_objectness: 0.0095 (0.1748)  loss_rpn_box_reg: 0.0062 (0.0381)  time: 0.4465  data: 0.0170  max mem: 4758\n",
      "Epoch: [0]  [270/911]  eta: 0:04:54  lr: 0.000299  loss: 0.4755 (1.0711)  loss_classifier: 0.1107 (0.2041)  loss_box_reg: 0.1581 (0.1429)  loss_mask: 0.2117 (0.5182)  loss_objectness: 0.0071 (0.1687)  loss_rpn_box_reg: 0.0073 (0.0371)  time: 0.4452  data: 0.0178  max mem: 4758\n",
      "Epoch: [0]  [280/911]  eta: 0:04:50  lr: 0.000309  loss: 0.4827 (1.0519)  loss_classifier: 0.1006 (0.2012)  loss_box_reg: 0.1551 (0.1445)  loss_mask: 0.1839 (0.5066)  loss_objectness: 0.0064 (0.1631)  loss_rpn_box_reg: 0.0092 (0.0365)  time: 0.4520  data: 0.0177  max mem: 4758\n",
      "Epoch: [0]  [290/911]  eta: 0:04:45  lr: 0.000320  loss: 0.5046 (1.0367)  loss_classifier: 0.1146 (0.1987)  loss_box_reg: 0.1781 (0.1462)  loss_mask: 0.1875 (0.4968)  loss_objectness: 0.0106 (0.1585)  loss_rpn_box_reg: 0.0123 (0.0364)  time: 0.4667  data: 0.0195  max mem: 4758\n",
      "Epoch: [0]  [300/911]  eta: 0:04:40  lr: 0.000331  loss: 0.5035 (1.0197)  loss_classifier: 0.0931 (0.1955)  loss_box_reg: 0.1491 (0.1463)  loss_mask: 0.2170 (0.4880)  loss_objectness: 0.0095 (0.1538)  loss_rpn_box_reg: 0.0094 (0.0360)  time: 0.4544  data: 0.0189  max mem: 4758\n",
      "Epoch: [0]  [310/911]  eta: 0:04:35  lr: 0.000342  loss: 0.5035 (1.0053)  loss_classifier: 0.0931 (0.1927)  loss_box_reg: 0.1273 (0.1467)  loss_mask: 0.2031 (0.4792)  loss_objectness: 0.0090 (0.1507)  loss_rpn_box_reg: 0.0094 (0.0360)  time: 0.4433  data: 0.0184  max mem: 4758\n",
      "Epoch: [0]  [320/911]  eta: 0:04:30  lr: 0.000353  loss: 0.4856 (0.9893)  loss_classifier: 0.1054 (0.1900)  loss_box_reg: 0.1633 (0.1478)  loss_mask: 0.1817 (0.4699)  loss_objectness: 0.0096 (0.1465)  loss_rpn_box_reg: 0.0061 (0.0352)  time: 0.4451  data: 0.0186  max mem: 4758\n",
      "Epoch: [0]  [330/911]  eta: 0:04:26  lr: 0.000364  loss: 0.4757 (0.9770)  loss_classifier: 0.1043 (0.1878)  loss_box_reg: 0.1793 (0.1498)  loss_mask: 0.1786 (0.4622)  loss_objectness: 0.0077 (0.1424)  loss_rpn_box_reg: 0.0054 (0.0348)  time: 0.4538  data: 0.0197  max mem: 4758\n",
      "Epoch: [0]  [340/911]  eta: 0:04:21  lr: 0.000375  loss: 0.4777 (0.9654)  loss_classifier: 0.1088 (0.1858)  loss_box_reg: 0.1980 (0.1524)  loss_mask: 0.1626 (0.4538)  loss_objectness: 0.0077 (0.1388)  loss_rpn_box_reg: 0.0052 (0.0345)  time: 0.4629  data: 0.0204  max mem: 4758\n",
      "Epoch: [0]  [350/911]  eta: 0:04:17  lr: 0.000386  loss: 0.5443 (0.9546)  loss_classifier: 0.1164 (0.1838)  loss_box_reg: 0.2084 (0.1541)  loss_mask: 0.1624 (0.4465)  loss_objectness: 0.0077 (0.1357)  loss_rpn_box_reg: 0.0096 (0.0345)  time: 0.4651  data: 0.0204  max mem: 4758\n",
      "Epoch: [0]  [360/911]  eta: 0:04:12  lr: 0.000397  loss: 0.4797 (0.9431)  loss_classifier: 0.0991 (0.1812)  loss_box_reg: 0.1770 (0.1536)  loss_mask: 0.1993 (0.4411)  loss_objectness: 0.0088 (0.1326)  loss_rpn_box_reg: 0.0137 (0.0346)  time: 0.4569  data: 0.0193  max mem: 4758\n",
      "Epoch: [0]  [370/911]  eta: 0:04:08  lr: 0.000408  loss: 0.4872 (0.9309)  loss_classifier: 0.0742 (0.1784)  loss_box_reg: 0.1334 (0.1535)  loss_mask: 0.2169 (0.4357)  loss_objectness: 0.0076 (0.1291)  loss_rpn_box_reg: 0.0110 (0.0341)  time: 0.4532  data: 0.0177  max mem: 4758\n",
      "Epoch: [0]  [380/911]  eta: 0:04:03  lr: 0.000419  loss: 0.4923 (0.9187)  loss_classifier: 0.0705 (0.1758)  loss_box_reg: 0.1411 (0.1537)  loss_mask: 0.1890 (0.4290)  loss_objectness: 0.0059 (0.1259)  loss_rpn_box_reg: 0.0095 (0.0342)  time: 0.4567  data: 0.0179  max mem: 4758\n",
      "Epoch: [0]  [390/911]  eta: 0:03:59  lr: 0.000430  loss: 0.4469 (0.9081)  loss_classifier: 0.0691 (0.1737)  loss_box_reg: 0.1448 (0.1549)  loss_mask: 0.1799 (0.4228)  loss_objectness: 0.0055 (0.1230)  loss_rpn_box_reg: 0.0061 (0.0338)  time: 0.4610  data: 0.0185  max mem: 4899\n",
      "Epoch: [0]  [400/911]  eta: 0:03:55  lr: 0.000441  loss: 0.5056 (0.9012)  loss_classifier: 0.0866 (0.1722)  loss_box_reg: 0.2019 (0.1579)  loss_mask: 0.1839 (0.4175)  loss_objectness: 0.0055 (0.1203)  loss_rpn_box_reg: 0.0043 (0.0333)  time: 0.4940  data: 0.0201  max mem: 5082\n",
      "Epoch: [0]  [410/911]  eta: 0:03:52  lr: 0.000452  loss: 0.5120 (0.8922)  loss_classifier: 0.0883 (0.1704)  loss_box_reg: 0.2107 (0.1597)  loss_mask: 0.1839 (0.4118)  loss_objectness: 0.0079 (0.1175)  loss_rpn_box_reg: 0.0043 (0.0328)  time: 0.5640  data: 0.0202  max mem: 5082\n",
      "Epoch: [0]  [420/911]  eta: 0:03:49  lr: 0.000463  loss: 0.5405 (0.8849)  loss_classifier: 0.0900 (0.1686)  loss_box_reg: 0.1967 (0.1608)  loss_mask: 0.1967 (0.4075)  loss_objectness: 0.0065 (0.1155)  loss_rpn_box_reg: 0.0110 (0.0325)  time: 0.6082  data: 0.0201  max mem: 5082\n",
      "Epoch: [0]  [430/911]  eta: 0:03:47  lr: 0.000474  loss: 0.5431 (0.8768)  loss_classifier: 0.0927 (0.1667)  loss_box_reg: 0.1920 (0.1615)  loss_mask: 0.2274 (0.4035)  loss_objectness: 0.0072 (0.1130)  loss_rpn_box_reg: 0.0136 (0.0321)  time: 0.6409  data: 0.0206  max mem: 5082\n",
      "Epoch: [0]  [440/911]  eta: 0:03:44  lr: 0.000485  loss: 0.4921 (0.8676)  loss_classifier: 0.0707 (0.1646)  loss_box_reg: 0.1662 (0.1621)  loss_mask: 0.2274 (0.3990)  loss_objectness: 0.0058 (0.1105)  loss_rpn_box_reg: 0.0060 (0.0315)  time: 0.6660  data: 0.0199  max mem: 5082\n",
      "Epoch: [0]  [450/911]  eta: 0:03:40  lr: 0.000496  loss: 0.5025 (0.8618)  loss_classifier: 0.0679 (0.1627)  loss_box_reg: 0.1662 (0.1628)  loss_mask: 0.2252 (0.3972)  loss_objectness: 0.0031 (0.1082)  loss_rpn_box_reg: 0.0060 (0.0310)  time: 0.6295  data: 0.0208  max mem: 5082\n",
      "Epoch: [0]  [460/911]  eta: 0:03:36  lr: 0.000507  loss: 0.4896 (0.8534)  loss_classifier: 0.0621 (0.1608)  loss_box_reg: 0.1459 (0.1633)  loss_mask: 0.2140 (0.3928)  loss_objectness: 0.0031 (0.1060)  loss_rpn_box_reg: 0.0078 (0.0305)  time: 0.5824  data: 0.0194  max mem: 5082\n",
      "Epoch: [0]  [470/911]  eta: 0:03:33  lr: 0.000518  loss: 0.4773 (0.8461)  loss_classifier: 0.0631 (0.1589)  loss_box_reg: 0.1459 (0.1636)  loss_mask: 0.2140 (0.3896)  loss_objectness: 0.0047 (0.1038)  loss_rpn_box_reg: 0.0052 (0.0301)  time: 0.5712  data: 0.0194  max mem: 5082\n",
      "Epoch: [0]  [480/911]  eta: 0:03:29  lr: 0.000529  loss: 0.4987 (0.8401)  loss_classifier: 0.0668 (0.1574)  loss_box_reg: 0.1607 (0.1646)  loss_mask: 0.2231 (0.3865)  loss_objectness: 0.0038 (0.1018)  loss_rpn_box_reg: 0.0066 (0.0298)  time: 0.6180  data: 0.0187  max mem: 5090\n",
      "Epoch: [0]  [490/911]  eta: 0:03:28  lr: 0.000540  loss: 0.4241 (0.8337)  loss_classifier: 0.0696 (0.1558)  loss_box_reg: 0.1590 (0.1656)  loss_mask: 0.1975 (0.3829)  loss_objectness: 0.0039 (0.0999)  loss_rpn_box_reg: 0.0072 (0.0294)  time: 0.7899  data: 0.0169  max mem: 5090\n",
      "Epoch: [0]  [500/911]  eta: 0:03:23  lr: 0.000551  loss: 0.4227 (0.8252)  loss_classifier: 0.0644 (0.1540)  loss_box_reg: 0.1586 (0.1660)  loss_mask: 0.1660 (0.3783)  loss_objectness: 0.0039 (0.0980)  loss_rpn_box_reg: 0.0047 (0.0289)  time: 0.7058  data: 0.0181  max mem: 5090\n",
      "Epoch: [0]  [510/911]  eta: 0:03:17  lr: 0.000562  loss: 0.3975 (0.8185)  loss_classifier: 0.0644 (0.1525)  loss_box_reg: 0.1600 (0.1669)  loss_mask: 0.1563 (0.3744)  loss_objectness: 0.0042 (0.0962)  loss_rpn_box_reg: 0.0038 (0.0285)  time: 0.4464  data: 0.0174  max mem: 5090\n",
      "Epoch: [0]  [520/911]  eta: 0:03:12  lr: 0.000573  loss: 0.3975 (0.8110)  loss_classifier: 0.0600 (0.1508)  loss_box_reg: 0.1617 (0.1672)  loss_mask: 0.1695 (0.3705)  loss_objectness: 0.0023 (0.0944)  loss_rpn_box_reg: 0.0050 (0.0281)  time: 0.4034  data: 0.0172  max mem: 5090\n",
      "Epoch: [0]  [530/911]  eta: 0:03:06  lr: 0.000584  loss: 0.3876 (0.8034)  loss_classifier: 0.0552 (0.1490)  loss_box_reg: 0.1617 (0.1673)  loss_mask: 0.1692 (0.3668)  loss_objectness: 0.0018 (0.0926)  loss_rpn_box_reg: 0.0036 (0.0277)  time: 0.4130  data: 0.0168  max mem: 5090\n",
      "Epoch: [0]  [540/911]  eta: 0:03:01  lr: 0.000595  loss: 0.4258 (0.7980)  loss_classifier: 0.0591 (0.1476)  loss_box_reg: 0.1830 (0.1682)  loss_mask: 0.1789 (0.3637)  loss_objectness: 0.0030 (0.0911)  loss_rpn_box_reg: 0.0043 (0.0273)  time: 0.4185  data: 0.0177  max mem: 5090\n",
      "Epoch: [0]  [550/911]  eta: 0:02:55  lr: 0.000606  loss: 0.4625 (0.7911)  loss_classifier: 0.0595 (0.1460)  loss_box_reg: 0.1637 (0.1681)  loss_mask: 0.1797 (0.3604)  loss_objectness: 0.0033 (0.0895)  loss_rpn_box_reg: 0.0067 (0.0270)  time: 0.4044  data: 0.0169  max mem: 5090\n",
      "Epoch: [0]  [560/911]  eta: 0:02:51  lr: 0.000617  loss: 0.3889 (0.7845)  loss_classifier: 0.0539 (0.1445)  loss_box_reg: 0.1372 (0.1679)  loss_mask: 0.1744 (0.3575)  loss_objectness: 0.0016 (0.0880)  loss_rpn_box_reg: 0.0038 (0.0266)  time: 0.4554  data: 0.0160  max mem: 5090\n",
      "Epoch: [0]  [570/911]  eta: 0:02:48  lr: 0.000628  loss: 0.4200 (0.7794)  loss_classifier: 0.0624 (0.1433)  loss_box_reg: 0.1600 (0.1686)  loss_mask: 0.1801 (0.3548)  loss_objectness: 0.0026 (0.0865)  loss_rpn_box_reg: 0.0038 (0.0262)  time: 0.6633  data: 0.0198  max mem: 5090\n",
      "Epoch: [0]  [580/911]  eta: 0:02:44  lr: 0.000639  loss: 0.4175 (0.7730)  loss_classifier: 0.0558 (0.1417)  loss_box_reg: 0.1532 (0.1681)  loss_mask: 0.1880 (0.3523)  loss_objectness: 0.0026 (0.0851)  loss_rpn_box_reg: 0.0049 (0.0259)  time: 0.7085  data: 0.0222  max mem: 5090\n",
      "Epoch: [0]  [590/911]  eta: 0:02:38  lr: 0.000650  loss: 0.3789 (0.7663)  loss_classifier: 0.0502 (0.1402)  loss_box_reg: 0.1169 (0.1674)  loss_mask: 0.1856 (0.3495)  loss_objectness: 0.0010 (0.0837)  loss_rpn_box_reg: 0.0049 (0.0256)  time: 0.5360  data: 0.0196  max mem: 5090\n",
      "Epoch: [0]  [600/911]  eta: 0:02:34  lr: 0.000661  loss: 0.3580 (0.7601)  loss_classifier: 0.0516 (0.1387)  loss_box_reg: 0.1237 (0.1672)  loss_mask: 0.1750 (0.3465)  loss_objectness: 0.0028 (0.0824)  loss_rpn_box_reg: 0.0054 (0.0253)  time: 0.5308  data: 0.0170  max mem: 5090\n",
      "Epoch: [0]  [610/911]  eta: 0:02:29  lr: 0.000672  loss: 0.3539 (0.7535)  loss_classifier: 0.0480 (0.1373)  loss_box_reg: 0.1347 (0.1668)  loss_mask: 0.1604 (0.3434)  loss_objectness: 0.0024 (0.0811)  loss_rpn_box_reg: 0.0049 (0.0249)  time: 0.5409  data: 0.0191  max mem: 5090\n",
      "Epoch: [0]  [620/911]  eta: 0:02:24  lr: 0.000683  loss: 0.3790 (0.7489)  loss_classifier: 0.0481 (0.1360)  loss_box_reg: 0.1347 (0.1665)  loss_mask: 0.1733 (0.3411)  loss_objectness: 0.0029 (0.0803)  loss_rpn_box_reg: 0.0053 (0.0249)  time: 0.4435  data: 0.0187  max mem: 5090\n",
      "Epoch: [0]  [630/911]  eta: 0:02:18  lr: 0.000694  loss: 0.3790 (0.7431)  loss_classifier: 0.0503 (0.1348)  loss_box_reg: 0.1306 (0.1662)  loss_mask: 0.1842 (0.3385)  loss_objectness: 0.0019 (0.0791)  loss_rpn_box_reg: 0.0082 (0.0246)  time: 0.4078  data: 0.0168  max mem: 5090\n",
      "Epoch: [0]  [640/911]  eta: 0:02:13  lr: 0.000705  loss: 0.3186 (0.7377)  loss_classifier: 0.0368 (0.1334)  loss_box_reg: 0.0972 (0.1651)  loss_mask: 0.1715 (0.3359)  loss_objectness: 0.0019 (0.0785)  loss_rpn_box_reg: 0.0043 (0.0248)  time: 0.4059  data: 0.0181  max mem: 5090\n",
      "Epoch: [0]  [650/911]  eta: 0:02:08  lr: 0.000716  loss: 0.3046 (0.7331)  loss_classifier: 0.0376 (0.1321)  loss_box_reg: 0.1006 (0.1646)  loss_mask: 0.1503 (0.3332)  loss_objectness: 0.0033 (0.0783)  loss_rpn_box_reg: 0.0067 (0.0249)  time: 0.4086  data: 0.0176  max mem: 5090\n",
      "Epoch: [0]  [660/911]  eta: 0:02:02  lr: 0.000727  loss: 0.3344 (0.7287)  loss_classifier: 0.0389 (0.1309)  loss_box_reg: 0.1006 (0.1636)  loss_mask: 0.1600 (0.3313)  loss_objectness: 0.0044 (0.0780)  loss_rpn_box_reg: 0.0065 (0.0248)  time: 0.4107  data: 0.0168  max mem: 5090\n",
      "Epoch: [0]  [670/911]  eta: 0:01:57  lr: 0.000738  loss: 0.4550 (0.7281)  loss_classifier: 0.0799 (0.1307)  loss_box_reg: 0.1200 (0.1637)  loss_mask: 0.1976 (0.3302)  loss_objectness: 0.0389 (0.0785)  loss_rpn_box_reg: 0.0113 (0.0250)  time: 0.4100  data: 0.0181  max mem: 5090\n",
      "Epoch: [0]  [680/911]  eta: 0:01:52  lr: 0.000749  loss: 0.7404 (0.7293)  loss_classifier: 0.1203 (0.1309)  loss_box_reg: 0.1552 (0.1643)  loss_mask: 0.2650 (0.3294)  loss_objectness: 0.1183 (0.0793)  loss_rpn_box_reg: 0.0362 (0.0254)  time: 0.4260  data: 0.0256  max mem: 5090\n",
      "Epoch: [0]  [690/911]  eta: 0:01:47  lr: 0.000760  loss: 0.7429 (0.7292)  loss_classifier: 0.1366 (0.1309)  loss_box_reg: 0.1744 (0.1645)  loss_mask: 0.2598 (0.3285)  loss_objectness: 0.1092 (0.0796)  loss_rpn_box_reg: 0.0346 (0.0257)  time: 0.4269  data: 0.0256  max mem: 5090\n",
      "Epoch: [0]  [700/911]  eta: 0:01:42  lr: 0.000771  loss: 0.6686 (0.7288)  loss_classifier: 0.1267 (0.1309)  loss_box_reg: 0.1822 (0.1650)  loss_mask: 0.2570 (0.3275)  loss_objectness: 0.0691 (0.0794)  loss_rpn_box_reg: 0.0326 (0.0260)  time: 0.4217  data: 0.0182  max mem: 5090\n",
      "Epoch: [0]  [710/911]  eta: 0:01:37  lr: 0.000782  loss: 0.6686 (0.7286)  loss_classifier: 0.1321 (0.1310)  loss_box_reg: 0.1822 (0.1653)  loss_mask: 0.2570 (0.3266)  loss_objectness: 0.0691 (0.0795)  loss_rpn_box_reg: 0.0297 (0.0263)  time: 0.4233  data: 0.0182  max mem: 5090\n",
      "Epoch: [0]  [720/911]  eta: 0:01:32  lr: 0.000793  loss: 0.6023 (0.7258)  loss_classifier: 0.1160 (0.1305)  loss_box_reg: 0.1542 (0.1648)  loss_mask: 0.2378 (0.3251)  loss_objectness: 0.0617 (0.0792)  loss_rpn_box_reg: 0.0268 (0.0263)  time: 0.4204  data: 0.0224  max mem: 5090\n",
      "Epoch: [0]  [730/911]  eta: 0:01:27  lr: 0.000803  loss: 0.5467 (0.7243)  loss_classifier: 0.1087 (0.1305)  loss_box_reg: 0.1557 (0.1654)  loss_mask: 0.2011 (0.3235)  loss_objectness: 0.0446 (0.0787)  loss_rpn_box_reg: 0.0190 (0.0262)  time: 0.4278  data: 0.0229  max mem: 5090\n",
      "Epoch: [0]  [740/911]  eta: 0:01:22  lr: 0.000814  loss: 0.6004 (0.7222)  loss_classifier: 0.1135 (0.1302)  loss_box_reg: 0.1869 (0.1655)  loss_mask: 0.2082 (0.3219)  loss_objectness: 0.0432 (0.0785)  loss_rpn_box_reg: 0.0209 (0.0262)  time: 0.4270  data: 0.0181  max mem: 5090\n",
      "Epoch: [0]  [750/911]  eta: 0:01:18  lr: 0.000825  loss: 0.5208 (0.7190)  loss_classifier: 0.0825 (0.1295)  loss_box_reg: 0.1727 (0.1653)  loss_mask: 0.2155 (0.3206)  loss_objectness: 0.0196 (0.0776)  loss_rpn_box_reg: 0.0132 (0.0260)  time: 0.5724  data: 0.1628  max mem: 5090\n",
      "Epoch: [0]  [760/911]  eta: 0:01:13  lr: 0.000836  loss: 0.4521 (0.7182)  loss_classifier: 0.0510 (0.1290)  loss_box_reg: 0.1044 (0.1652)  loss_mask: 0.2387 (0.3199)  loss_objectness: 0.0090 (0.0777)  loss_rpn_box_reg: 0.0136 (0.0264)  time: 0.7552  data: 0.2956  max mem: 5303\n",
      "Epoch: [0]  [770/911]  eta: 0:01:09  lr: 0.000847  loss: 0.4961 (0.7175)  loss_classifier: 0.0633 (0.1287)  loss_box_reg: 0.1222 (0.1653)  loss_mask: 0.2525 (0.3193)  loss_objectness: 0.0198 (0.0773)  loss_rpn_box_reg: 0.0435 (0.0269)  time: 0.6449  data: 0.1897  max mem: 5303\n",
      "Epoch: [0]  [780/911]  eta: 0:01:04  lr: 0.000858  loss: 0.4898 (0.7161)  loss_classifier: 0.0577 (0.1283)  loss_box_reg: 0.1214 (0.1651)  loss_mask: 0.2525 (0.3185)  loss_objectness: 0.0196 (0.0767)  loss_rpn_box_reg: 0.0435 (0.0274)  time: 0.5433  data: 0.1371  max mem: 5303\n",
      "Epoch: [0]  [790/911]  eta: 0:01:01  lr: 0.000869  loss: 0.4027 (0.7151)  loss_classifier: 0.0556 (0.1279)  loss_box_reg: 0.1060 (0.1654)  loss_mask: 0.2358 (0.3177)  loss_objectness: 0.0060 (0.0763)  loss_rpn_box_reg: 0.0201 (0.0278)  time: 1.1824  data: 0.4838  max mem: 5303\n",
      "Epoch: [0]  [800/911]  eta: 0:00:56  lr: 0.000880  loss: 0.5221 (0.7124)  loss_classifier: 0.0442 (0.1270)  loss_box_reg: 0.0864 (0.1646)  loss_mask: 0.2381 (0.3170)  loss_objectness: 0.0081 (0.0756)  loss_rpn_box_reg: 0.0244 (0.0282)  time: 1.3727  data: 0.4048  max mem: 5303\n",
      "Epoch: [0]  [810/911]  eta: 0:00:53  lr: 0.000891  loss: 0.5353 (0.7114)  loss_classifier: 0.0649 (0.1265)  loss_box_reg: 0.1283 (0.1649)  loss_mask: 0.2784 (0.3163)  loss_objectness: 0.0085 (0.0750)  loss_rpn_box_reg: 0.0408 (0.0287)  time: 1.5498  data: 0.4223  max mem: 5303\n",
      "Epoch: [0]  [820/911]  eta: 0:00:49  lr: 0.000902  loss: 0.5993 (0.7118)  loss_classifier: 0.0767 (0.1264)  loss_box_reg: 0.1828 (0.1657)  loss_mask: 0.2418 (0.3161)  loss_objectness: 0.0083 (0.0745)  loss_rpn_box_reg: 0.0454 (0.0291)  time: 1.6819  data: 0.6233  max mem: 5719\n",
      "Epoch: [0]  [830/911]  eta: 0:00:44  lr: 0.000913  loss: 0.6201 (0.7131)  loss_classifier: 0.0815 (0.1265)  loss_box_reg: 0.2036 (0.1669)  loss_mask: 0.3046 (0.3158)  loss_objectness: 0.0106 (0.0741)  loss_rpn_box_reg: 0.0454 (0.0298)  time: 1.1193  data: 0.3673  max mem: 5719\n",
      "Epoch: [0]  [840/911]  eta: 0:00:38  lr: 0.000924  loss: 0.6459 (0.7134)  loss_classifier: 0.0716 (0.1260)  loss_box_reg: 0.1506 (0.1665)  loss_mask: 0.3046 (0.3158)  loss_objectness: 0.0175 (0.0748)  loss_rpn_box_reg: 0.0432 (0.0303)  time: 0.8006  data: 0.1598  max mem: 5719\n",
      "Epoch: [0]  [850/911]  eta: 0:00:33  lr: 0.000935  loss: 0.6459 (0.7154)  loss_classifier: 0.1076 (0.1265)  loss_box_reg: 0.1300 (0.1665)  loss_mask: 0.2726 (0.3166)  loss_objectness: 0.0310 (0.0754)  loss_rpn_box_reg: 0.0284 (0.0304)  time: 0.5889  data: 0.0123  max mem: 5719\n",
      "Epoch: [0]  [860/911]  eta: 0:00:27  lr: 0.000946  loss: 0.5656 (0.7138)  loss_classifier: 0.1042 (0.1262)  loss_box_reg: 0.1410 (0.1663)  loss_mask: 0.2929 (0.3164)  loss_objectness: 0.0310 (0.0748)  loss_rpn_box_reg: 0.0084 (0.0301)  time: 0.5867  data: 0.0189  max mem: 5719\n",
      "Epoch: [0]  [870/911]  eta: 0:00:22  lr: 0.000957  loss: 0.6347 (0.7165)  loss_classifier: 0.1225 (0.1270)  loss_box_reg: 0.1865 (0.1674)  loss_mask: 0.3569 (0.3174)  loss_objectness: 0.0318 (0.0747)  loss_rpn_box_reg: 0.0105 (0.0301)  time: 0.5952  data: 0.0203  max mem: 5719\n",
      "Epoch: [0]  [880/911]  eta: 0:00:17  lr: 0.000968  loss: 0.6576 (0.7152)  loss_classifier: 0.1056 (0.1265)  loss_box_reg: 0.1749 (0.1673)  loss_mask: 0.3503 (0.3169)  loss_objectness: 0.0318 (0.0745)  loss_rpn_box_reg: 0.0134 (0.0301)  time: 0.6654  data: 0.0752  max mem: 5719\n",
      "Epoch: [0]  [890/911]  eta: 0:00:11  lr: 0.000979  loss: 0.5170 (0.7132)  loss_classifier: 0.0834 (0.1261)  loss_box_reg: 0.1403 (0.1673)  loss_mask: 0.2268 (0.3157)  loss_objectness: 0.0235 (0.0740)  loss_rpn_box_reg: 0.0133 (0.0302)  time: 0.8488  data: 0.1796  max mem: 5719\n",
      "Epoch: [0]  [900/911]  eta: 0:00:06  lr: 0.000990  loss: 0.4078 (0.7097)  loss_classifier: 0.0482 (0.1252)  loss_box_reg: 0.1001 (0.1664)  loss_mask: 0.2268 (0.3148)  loss_objectness: 0.0070 (0.0733)  loss_rpn_box_reg: 0.0121 (0.0300)  time: 0.7871  data: 0.1202  max mem: 5719\n",
      "Epoch: [0]  [910/911]  eta: 0:00:00  lr: 0.001000  loss: 0.3153 (0.7052)  loss_classifier: 0.0309 (0.1242)  loss_box_reg: 0.0671 (0.1653)  loss_mask: 0.2168 (0.3133)  loss_objectness: 0.0053 (0.0726)  loss_rpn_box_reg: 0.0052 (0.0298)  time: 0.5090  data: 0.0130  max mem: 5719\n",
      "Epoch: [0] Total time: 0:08:25 (0.5553 s / it)\n"
     ]
    }
   ],
   "source": [
    "do_training(model, HRSID_train, HRSID_test, num_epochs=20)\n"
   ]
  },
  {
   "cell_type": "code",
   "execution_count": null,
   "id": "e305b4c5",
   "metadata": {},
   "outputs": [
    {
     "ename": "SystemExit",
     "evalue": "1",
     "output_type": "error",
     "traceback": [
      "\u001b[0;31m---------------------------------------------------------------------------\u001b[0m",
      "\u001b[0;31mSystemExit\u001b[0m                                Traceback (most recent call last)",
      "Cell \u001b[0;32mIn[26], line 1\u001b[0m\n\u001b[0;32m----> 1\u001b[0m do_training(model, HRSID_train, HRSID_test, num_epochs\u001b[39m=\u001b[39;49m\u001b[39m20\u001b[39;49m)\n",
      "Cell \u001b[0;32mIn[23], line 23\u001b[0m, in \u001b[0;36mdo_training\u001b[0;34m(model, torch_dataset, torch_dataset_test, num_epochs)\u001b[0m\n\u001b[1;32m     19\u001b[0m lr_scheduler \u001b[39m=\u001b[39m torch\u001b[39m.\u001b[39moptim\u001b[39m.\u001b[39mlr_scheduler\u001b[39m.\u001b[39mStepLR(optimizer,\n\u001b[1;32m     20\u001b[0m                                                 step_size\u001b[39m=\u001b[39m\u001b[39m5\u001b[39m,\n\u001b[1;32m     21\u001b[0m                                                 gamma\u001b[39m=\u001b[39m\u001b[39m0.1\u001b[39m)\n\u001b[1;32m     22\u001b[0m \u001b[39mfor\u001b[39;00m epoch \u001b[39min\u001b[39;00m \u001b[39mrange\u001b[39m(num_epochs):\n\u001b[0;32m---> 23\u001b[0m     train_one_epoch(model\u001b[39m=\u001b[39;49mmodel,\n\u001b[1;32m     24\u001b[0m                     optimizer\u001b[39m=\u001b[39;49moptimizer, \n\u001b[1;32m     25\u001b[0m                     data_loader\u001b[39m=\u001b[39;49mdata_loader,\n\u001b[1;32m     26\u001b[0m                     device\u001b[39m=\u001b[39;49mdevice, \n\u001b[1;32m     27\u001b[0m                     epoch\u001b[39m=\u001b[39;49mepoch, \n\u001b[1;32m     28\u001b[0m                     print_freq\u001b[39m=\u001b[39;49m\u001b[39m10\u001b[39;49m)\n\u001b[1;32m     29\u001b[0m     torch\u001b[39m.\u001b[39mnn\u001b[39m.\u001b[39mutils\u001b[39m.\u001b[39mclip_grad_norm_(model\u001b[39m.\u001b[39mparameters(), \u001b[39m1\u001b[39m)\n\u001b[1;32m     30\u001b[0m     lr_scheduler\u001b[39m.\u001b[39mstep()\n",
      "File \u001b[0;32m~/ENEE439/Capstone/models/mask_rcnn/engine.py:43\u001b[0m, in \u001b[0;36mtrain_one_epoch\u001b[0;34m(model, optimizer, data_loader, device, epoch, print_freq, scaler)\u001b[0m\n\u001b[1;32m     41\u001b[0m     \u001b[39mprint\u001b[39m(\u001b[39mf\u001b[39m\u001b[39m\"\u001b[39m\u001b[39mLoss is \u001b[39m\u001b[39m{\u001b[39;00mloss_value\u001b[39m}\u001b[39;00m\u001b[39m, stopping training\u001b[39m\u001b[39m\"\u001b[39m)\n\u001b[1;32m     42\u001b[0m     \u001b[39mprint\u001b[39m(loss_dict_reduced)\n\u001b[0;32m---> 43\u001b[0m     sys\u001b[39m.\u001b[39;49mexit(\u001b[39m1\u001b[39;49m)\n\u001b[1;32m     45\u001b[0m optimizer\u001b[39m.\u001b[39mzero_grad()\n\u001b[1;32m     46\u001b[0m \u001b[39mif\u001b[39;00m scaler \u001b[39mis\u001b[39;00m \u001b[39mnot\u001b[39;00m \u001b[39mNone\u001b[39;00m:\n",
      "\u001b[0;31mSystemExit\u001b[0m: 1"
     ]
    }
   ],
   "source": [
    "%tb"
   ]
  },
  {
   "cell_type": "code",
   "execution_count": null,
   "id": "188a2d25",
   "metadata": {},
   "outputs": [],
   "source": [
    "model=None\n",
    "torch.cuda.empty_cache()\n"
   ]
  }
 ],
 "metadata": {
  "kernelspec": {
   "display_name": "Python 3 (ipykernel)",
   "language": "python",
   "name": "python3"
  },
  "language_info": {
   "codemirror_mode": {
    "name": "ipython",
    "version": 3
   },
   "file_extension": ".py",
   "mimetype": "text/x-python",
   "name": "python",
   "nbconvert_exporter": "python",
   "pygments_lexer": "ipython3",
   "version": "3.10.10"
  }
 },
 "nbformat": 4,
 "nbformat_minor": 5
}

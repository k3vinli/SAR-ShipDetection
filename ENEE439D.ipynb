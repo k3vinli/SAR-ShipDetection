{
 "cells": [
  {
   "attachments": {},
   "cell_type": "markdown",
   "id": "8428ba9a",
   "metadata": {},
   "source": [
    "# Setup"
   ]
  },
  {
   "cell_type": "code",
   "execution_count": 1,
   "id": "4562a1b4",
   "metadata": {},
   "outputs": [],
   "source": [
    "# was needed to download files from repo\n",
    "\n",
    "# Download TorchVision repo to use some files from\n",
    "# references/detection\n",
    "# !git clone https://github.com/pytorch/vision.git\n",
    "# !cd vision\n",
    "# !git checkout v0.3.0\n",
    "\n",
    "# !cp references/detection/utils.py ../\n",
    "# !cp references/detection/transforms.py ../\n",
    "# !cp references/detection/coco_eval.py ../\n",
    "# !cp references/detection/engine.py ../\n",
    "# !cp references/detection/coco_utils.py ../"
   ]
  },
  {
   "attachments": {},
   "cell_type": "markdown",
   "id": "b8809d0c",
   "metadata": {},
   "source": [
    "# Imports"
   ]
  },
  {
   "cell_type": "code",
   "execution_count": 2,
   "id": "ead2de20",
   "metadata": {},
   "outputs": [],
   "source": [
    "import fiftyone as fo\n",
    "import fiftyone.utils.coco as fouc\n",
    "from fiftyone.core.labels import Detection\n",
    "from PIL import Image\n",
    "\n",
    "import torch\n",
    "import torch.nn as nn\n",
    "import torch.utils\n",
    "import torch.utils.data\n",
    "\n",
    "import torchvision\n",
    "from torchvision.models.segmentation import fcn_resnet50, FCN_ResNet50_Weights\n",
    "\n",
    "import matplotlib.pyplot as plt\n",
    "\n",
    "import os\n",
    "import importlib\n",
    "\n",
    "import utils\n",
    "import train\n",
    "from train import train_one_epoch, evaluate\n",
    "import transforms\n",
    "import DatasetLoaders\n",
    "importlib.reload(DatasetLoaders)\n",
    "from DatasetLoaders import HRSIDDataset\n"
   ]
  },
  {
   "cell_type": "code",
   "execution_count": 3,
   "id": "cc47deb7",
   "metadata": {},
   "outputs": [
    {
     "data": {
      "text/plain": "<module 'train' from '/home/k3vinli/ENEE439/Capstone/train.py'>"
     },
     "execution_count": 3,
     "metadata": {},
     "output_type": "execute_result"
    }
   ],
   "source": [
    "importlib.reload(utils)\n",
    "importlib.reload(transforms)\n",
    "importlib.reload(train)"
   ]
  },
  {
   "attachments": {},
   "cell_type": "markdown",
   "id": "dbcaff5c",
   "metadata": {},
   "source": [
    "# loading data into fiftyone"
   ]
  },
  {
   "cell_type": "code",
   "execution_count": 4,
   "id": "c02744d1",
   "metadata": {},
   "outputs": [],
   "source": [
    "# Loading Dataset\n",
    "name = \"HRSID\"\n",
    "if name in fo.list_datasets():\n",
    "    dataset_traintest = fo.load_dataset(name)\n",
    "else:\n",
    "    dataset_dir = os.path.abspath(\"Datasets/HRSID\")\n",
    "    # The type of the dataset being imported\n",
    "    dataset_type = fo.types.COCODetectionDataset\n",
    "\n",
    "    dataset_traintest = fo.Dataset.from_dir(\n",
    "        dataset_dir=dataset_dir,\n",
    "        dataset_type=dataset_type,\n",
    "        name=name,\n",
    "    )"
   ]
  },
  {
   "cell_type": "code",
   "execution_count": 5,
   "id": "f0d4b52f",
   "metadata": {},
   "outputs": [],
   "source": [
    "name = \"HRSID_train\"\n",
    "if name in fo.list_datasets():\n",
    "    dataset_train = fo.load_dataset(name)\n",
    "else:\n",
    "    dataset_dir = os.path.abspath(\"Datasets/HRSID\")\n",
    "    label_path = os.path.abspath(\"Datasets/HRSID/annotations/train2017.json\")\n",
    "    # The type of the dataset being imported\n",
    "    dataset_type = fo.types.COCODetectionDataset\n",
    "\n",
    "    dataset_train = fo.Dataset.from_dir(\n",
    "        dataset_dir=dataset_dir,\n",
    "        dataset_type=dataset_type,\n",
    "        name=name,\n",
    "        labels_path=label_path\n",
    "    )"
   ]
  },
  {
   "cell_type": "code",
   "execution_count": 6,
   "id": "0b8e7141",
   "metadata": {},
   "outputs": [],
   "source": [
    "name = \"HRSID_test\"\n",
    "if name in fo.list_datasets():\n",
    "    dataset_test = fo.load_dataset(name)\n",
    "else:\n",
    "    dataset_dir = os.path.abspath(\"Datasets/HRSID\")\n",
    "    label_path = os.path.abspath(\"Datasets/HRSID/annotations/test2017.json\")\n",
    "    # The type of the dataset being imported\n",
    "    dataset_type = fo.types.COCODetectionDataset\n",
    "\n",
    "    dataset_test = fo.Dataset.from_dir(\n",
    "        dataset_dir=dataset_dir,\n",
    "        dataset_type=dataset_type,\n",
    "        name=name,\n",
    "        labels_path=label_path\n",
    "    )"
   ]
  },
  {
   "cell_type": "code",
   "execution_count": 7,
   "id": "2f1b3308",
   "metadata": {},
   "outputs": [],
   "source": [
    "dataset_train.compute_metadata()\n",
    "dataset_test.compute_metadata()"
   ]
  },
  {
   "attachments": {},
   "cell_type": "markdown",
   "id": "e49c0e41",
   "metadata": {},
   "source": [
    "# explore fiftyone useage"
   ]
  },
  {
   "cell_type": "code",
   "execution_count": 8,
   "id": "3e82a450",
   "metadata": {},
   "outputs": [
    {
     "data": {
      "text/plain": "<ImageMetadata: {\n    'size_bytes': None,\n    'mime_type': None,\n    'width': 800,\n    'height': 800,\n    'num_channels': None,\n}>"
     },
     "execution_count": 8,
     "metadata": {},
     "output_type": "execute_result"
    }
   ],
   "source": [
    "paths = dataset_train.values(\"filepath\")\n",
    "sample = dataset_train[paths[1]]\n",
    "sample.metadata"
   ]
  },
  {
   "cell_type": "code",
   "execution_count": 9,
   "id": "94472932",
   "metadata": {},
   "outputs": [],
   "source": [
    "#sample"
   ]
  },
  {
   "cell_type": "code",
   "execution_count": 10,
   "id": "62d3b6f0",
   "metadata": {},
   "outputs": [],
   "source": [
    "img = Image.open(paths[1]).convert(\"RGB\")\n",
    "detections = sample[\"detections\"].detections\n",
    "segmentations = sample[\"segmentations\"].detections"
   ]
  },
  {
   "cell_type": "code",
   "execution_count": 11,
   "id": "40cf5fab",
   "metadata": {},
   "outputs": [],
   "source": [
    "classes = dataset_train.distinct(\"%s.detections.label\" % \"segmentations\")"
   ]
  },
  {
   "cell_type": "code",
   "execution_count": 12,
   "id": "7122423e",
   "metadata": {},
   "outputs": [],
   "source": [
    "# segmentations"
   ]
  },
  {
   "cell_type": "code",
   "execution_count": 13,
   "id": "a993ae41",
   "metadata": {},
   "outputs": [
    {
     "data": {
      "text/plain": "{'ship': 0}"
     },
     "execution_count": 13,
     "metadata": {},
     "output_type": "execute_result"
    }
   ],
   "source": [
    "labels_map_rev = {c: i for i, c in enumerate(classes)}\n",
    "labels_map_rev\n"
   ]
  },
  {
   "cell_type": "code",
   "execution_count": 14,
   "id": "e4a1e976",
   "metadata": {},
   "outputs": [],
   "source": [
    "for det in segmentations:\n",
    "    category_id=labels_map_rev[det.label]\n",
    "    coco_obj=fouc.COCOObject.from_label(det, sample.metadata, category_id=category_id)\n",
    "    x,y,w,h=coco_obj.bbox"
   ]
  },
  {
   "cell_type": "code",
   "execution_count": 15,
   "id": "a4eadd24",
   "metadata": {},
   "outputs": [],
   "source": [
    "# [coco_obj.segmentation], dtype=torch.float"
   ]
  },
  {
   "cell_type": "code",
   "execution_count": 16,
   "id": "ca678797",
   "metadata": {},
   "outputs": [
    {
     "name": "stdout",
     "output_type": "stream",
     "text": [
      "<class 'fiftyone.core.labels.Detection'>\n",
      "frame size (800, 800)\n",
      "detection: <Detection: {\n",
      "    'id': '643f4fc21f627261754ae3b8',\n",
      "    'attributes': {},\n",
      "    'tags': [],\n",
      "    'label': 'ship',\n",
      "    'bounding_box': [0.29625, 0.09875, 0.0525, 0.01],\n",
      "    'mask': array([[False, False, False, False, False, False, False, False, False,\n",
      "            False, False, False, False, False, False, False,  True,  True,\n",
      "             True,  True,  True,  True,  True,  True,  True,  True,  True,\n",
      "             True,  True,  True,  True,  True,  True,  True,  True,  True,\n",
      "             True,  True, False, False, False, False],\n",
      "           [False,  True,  True,  True,  True,  True,  True,  True,  True,\n",
      "             True,  True,  True,  True,  True,  True,  True,  True,  True,\n",
      "             True,  True,  True,  True,  True,  True,  True,  True,  True,\n",
      "             True,  True,  True,  True,  True,  True,  True,  True,  True,\n",
      "             True,  True,  True,  True,  True, False],\n",
      "           [ True,  True,  True,  True,  True,  True,  True,  True,  True,\n",
      "             True,  True,  True,  True,  True,  True,  True,  True,  True,\n",
      "             True,  True,  True,  True,  True,  True,  True,  True,  True,\n",
      "             True,  True,  True,  True,  True,  True,  True,  True,  True,\n",
      "             True,  True,  True,  True,  True, False],\n",
      "           [False, False,  True,  True,  True,  True,  True,  True,  True,\n",
      "             True,  True,  True,  True,  True,  True,  True,  True,  True,\n",
      "             True,  True,  True,  True,  True,  True,  True,  True,  True,\n",
      "             True,  True,  True,  True,  True,  True,  True,  True,  True,\n",
      "             True,  True,  True,  True, False, False],\n",
      "           [False, False, False, False, False,  True,  True,  True,  True,\n",
      "             True,  True,  True,  True,  True,  True,  True,  True,  True,\n",
      "             True,  True,  True,  True,  True,  True,  True,  True,  True,\n",
      "             True,  True,  True,  True,  True,  True,  True,  True,  True,\n",
      "             True,  True, False, False, False, False],\n",
      "           [False, False, False, False, False, False, False, False,  True,\n",
      "             True,  True,  True,  True,  True,  True,  True,  True,  True,\n",
      "             True,  True,  True,  True,  True,  True,  True,  True,  True,\n",
      "             True,  True,  True,  True,  True,  True,  True,  True,  True,\n",
      "            False, False, False, False, False, False],\n",
      "           [False, False, False, False, False, False, False, False, False,\n",
      "             True,  True,  True,  True,  True,  True,  True,  True, False,\n",
      "            False, False, False, False, False, False, False, False, False,\n",
      "            False, False, False,  True,  True,  True,  True, False, False,\n",
      "            False, False, False, False, False, False],\n",
      "           [False, False, False, False, False, False, False, False, False,\n",
      "            False, False, False, False, False, False, False, False, False,\n",
      "            False, False, False, False, False, False, False, False, False,\n",
      "            False, False, False, False, False, False, False, False, False,\n",
      "            False, False, False, False, False, False]]),\n",
      "    'confidence': None,\n",
      "    'index': None,\n",
      "    'iscrowd': 0,\n",
      "}>\n",
      "segmentation: <Segmentation: {\n",
      "    'id': '6441bc48e5b894a03803ca6d',\n",
      "    'tags': [],\n",
      "    'mask': array([[0, 0, 0, ..., 0, 0, 0],\n",
      "           [0, 0, 0, ..., 0, 0, 0],\n",
      "           [0, 0, 0, ..., 0, 0, 0],\n",
      "           ...,\n",
      "           [0, 0, 0, ..., 0, 0, 0],\n",
      "           [0, 0, 0, ..., 0, 0, 0],\n",
      "           [0, 0, 0, ..., 0, 0, 0]], dtype=uint8),\n",
      "    'mask_path': None,\n",
      "}>\n",
      "full img 255\n"
     ]
    }
   ],
   "source": [
    "sample = dataset_test.first()\n",
    "frame_size = (sample.metadata[\"width\"], sample.metadata[\"height\"])\n",
    "detection = sample[\"segmentations\"][\"detections\"][0]\n",
    "\n",
    "segmentation = detection.to_segmentation(frame_size=frame_size)\n",
    "full_img_mask = segmentation.mask\n",
    "print(type(detection))\n",
    "print(\"frame size\", frame_size)\n",
    "print(\"detection:\", detection)\n",
    "print(\"segmentation:\", segmentation)\n",
    "print(\"full img\", full_img_mask.max())"
   ]
  },
  {
   "cell_type": "code",
   "execution_count": 17,
   "id": "256fa90c",
   "metadata": {},
   "outputs": [
    {
     "name": "stdout",
     "output_type": "stream",
     "text": [
      "Connected to FiftyOne on port 5151 at localhost.\n",
      "If you are not connecting to a remote session, you may need to start a new session and specify a port\n"
     ]
    },
    {
     "data": {
      "text/plain": "<IPython.lib.display.IFrame at 0x7ff57a287130>",
      "text/html": "\n        <iframe\n            width=\"100%\"\n            height=\"800\"\n            src=\"http://localhost:5151/?notebook=True&subscription=dfa1b954-b2a4-4b22-b3af-30e9b3247806\"\n            frameborder=\"0\"\n            allowfullscreen\n            \n        ></iframe>\n        "
     },
     "metadata": {},
     "output_type": "display_data"
    }
   ],
   "source": [
    "session = fo.launch_app()"
   ]
  },
  {
   "attachments": {},
   "cell_type": "markdown",
   "id": "e51f040a",
   "metadata": {},
   "source": [
    "# Training ResNet Model"
   ]
  },
  {
   "cell_type": "code",
   "execution_count": 18,
   "id": "ec2c4deb",
   "metadata": {},
   "outputs": [],
   "source": [
    "def get_model(num_classes):\n",
    "    weights = FCN_ResNet50_Weights.DEFAULT\n",
    "    model = fcn_resnet50(weights=weights, classes=num_classes)\n",
    "\n",
    "    return model"
   ]
  },
  {
   "cell_type": "code",
   "execution_count": 19,
   "id": "2d3c0b48",
   "metadata": {},
   "outputs": [],
   "source": [
    "def do_training(model, torch_dataset, torch_dataset_test, num_epochs=4):\n",
    "    data_loader = torch.utils.data.DataLoader(\n",
    "        torch_dataset, batch_size=2, shuffle=False, num_workers=0,\n",
    "        collate_fn=utils.collate_fn\n",
    "    )\n",
    "    data_loader_test = torch.utils.data.DataLoader(\n",
    "        torch_dataset_test, batch_size=1, shuffle=False, num_workers=0,\n",
    "        collate_fn=utils.collate_fn\n",
    "    )\n",
    "\n",
    "    device = torch.device('cpu' if torch.cuda.is_available() else 'cpu')\n",
    "    print(f\"Using {device}\")\n",
    "    model.to(device)\n",
    "\n",
    "    params = [p for p in model.parameters() if p.requires_grad]\n",
    "    criterion = torch.nn.CrossEntropyLoss()\n",
    "    optimizer = torch.optim.SGD(params, lr=0.001,\n",
    "                                momentum=0.9, weight_decay=0.0005)\n",
    "\n",
    "    lr_scheduler = torch.optim.lr_scheduler.StepLR(optimizer,\n",
    "                                                    step_size=5,\n",
    "                                                    gamma=0.1)\n",
    "    for epoch in range(num_epochs):\n",
    "        train_one_epoch(model=model,\n",
    "                        criterion=criterion,\n",
    "                        optimizer=optimizer, \n",
    "                        data_loader=data_loader,\n",
    "                        lr_scheduler=lr_scheduler,\n",
    "                        device=device, \n",
    "                        epoch=epoch, \n",
    "                        print_freq=10)\n",
    "\n",
    "        evaluate(model=model, data_loader=data_loader_test, device=device)"
   ]
  },
  {
   "cell_type": "code",
   "execution_count": 20,
   "id": "234e99fa",
   "metadata": {},
   "outputs": [],
   "source": [
    "train_transform = transforms.Compose([transforms.PILToTensor(), transforms.ConvertImageDtype(torch.float)])\n",
    "test_transform = transforms.Compose([transforms.PILToTensor(), transforms.ConvertImageDtype(torch.float)])\n",
    "HRSID_train = HRSIDDataset(dataset_train, transforms=train_transform)\n",
    "HRSID_test = HRSIDDataset(dataset_test, transforms=test_transform)"
   ]
  },
  {
   "cell_type": "code",
   "execution_count": 21,
   "id": "77d45d8a",
   "metadata": {},
   "outputs": [],
   "source": [
    "model = get_model(2)"
   ]
  },
  {
   "cell_type": "code",
   "execution_count": 23,
   "id": "ee8edf58",
   "metadata": {},
   "outputs": [
    {
     "ename": "ModuleNotFoundError",
     "evalue": "No module named 'pydev_jupyter_utils'",
     "output_type": "error",
     "traceback": [
      "\u001B[0;31m---------------------------------------------------------------------------\u001B[0m",
      "\u001B[0;31mModuleNotFoundError\u001B[0m                       Traceback (most recent call last)",
      "Cell \u001B[0;32mIn[24], line 6\u001B[0m\n\u001B[1;32m      4\u001B[0m     sys\u001B[38;5;241m.\u001B[39mpath\u001B[38;5;241m.\u001B[39minsert(\u001B[38;5;241m0\u001B[39m, \u001B[38;5;124m'\u001B[39m\u001B[38;5;124mC:\u001B[39m\u001B[38;5;130;01m\\\\\u001B[39;00m\u001B[38;5;124mProgram Files\u001B[39m\u001B[38;5;130;01m\\\\\u001B[39;00m\u001B[38;5;124mJetBrains\u001B[39m\u001B[38;5;130;01m\\\\\u001B[39;00m\u001B[38;5;124mPyCharm 2021.3.2\u001B[39m\u001B[38;5;130;01m\\\\\u001B[39;00m\u001B[38;5;124mplugins\u001B[39m\u001B[38;5;130;01m\\\\\u001B[39;00m\u001B[38;5;124mpython\u001B[39m\u001B[38;5;130;01m\\\\\u001B[39;00m\u001B[38;5;124mhelpers\u001B[39m\u001B[38;5;130;01m\\\\\u001B[39;00m\u001B[38;5;124mpydev\u001B[39m\u001B[38;5;124m'\u001B[39m)\n\u001B[1;32m      5\u001B[0m     sys\u001B[38;5;241m.\u001B[39mpath\u001B[38;5;241m.\u001B[39minsert(\u001B[38;5;241m0\u001B[39m, \u001B[38;5;124m'\u001B[39m\u001B[38;5;124mC:\u001B[39m\u001B[38;5;130;01m\\\\\u001B[39;00m\u001B[38;5;124mProgram Files\u001B[39m\u001B[38;5;130;01m\\\\\u001B[39;00m\u001B[38;5;124mJetBrains\u001B[39m\u001B[38;5;130;01m\\\\\u001B[39;00m\u001B[38;5;124mPyCharm 2021.3.2\u001B[39m\u001B[38;5;130;01m\\\\\u001B[39;00m\u001B[38;5;124mplugins\u001B[39m\u001B[38;5;130;01m\\\\\u001B[39;00m\u001B[38;5;124mpython\u001B[39m\u001B[38;5;130;01m\\\\\u001B[39;00m\u001B[38;5;124mhelpers-pro\u001B[39m\u001B[38;5;130;01m\\\\\u001B[39;00m\u001B[38;5;124mjupyter_debug\u001B[39m\u001B[38;5;124m'\u001B[39m)\n\u001B[0;32m----> 6\u001B[0m \u001B[38;5;28;01mfrom\u001B[39;00m \u001B[38;5;21;01mpydev_jupyter_utils\u001B[39;00m \u001B[38;5;28;01mimport\u001B[39;00m remove_imported_pydev_package\n\u001B[1;32m      7\u001B[0m remove_imported_pydev_package()\n\u001B[1;32m      8\u001B[0m \u001B[38;5;28;01mimport\u001B[39;00m \u001B[38;5;21;01mpydev_jupyter_utils\u001B[39;00m\n",
      "\u001B[0;31mModuleNotFoundError\u001B[0m: No module named 'pydev_jupyter_utils'"
     ]
    }
   ],
   "source": [
    "do_training(model, HRSID_train, HRSID_test, num_epochs=20)"
   ]
  },
  {
   "cell_type": "code",
   "execution_count": null,
   "outputs": [],
   "source": [],
   "metadata": {
    "collapsed": false,
    "pycharm": {
     "name": "#%%\n"
    }
   }
  }
 ],
 "metadata": {
  "kernelspec": {
   "display_name": "Python 3 (ipykernel)",
   "language": "python",
   "name": "python3"
  },
  "language_info": {
   "codemirror_mode": {
    "name": "ipython",
    "version": 3
   },
   "file_extension": ".py",
   "mimetype": "text/x-python",
   "name": "python",
   "nbconvert_exporter": "python",
   "pygments_lexer": "ipython3",
   "version": "3.10.10"
  }
 },
 "nbformat": 4,
 "nbformat_minor": 5
}
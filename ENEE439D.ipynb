{
 "cells": [
  {
   "attachments": {},
   "cell_type": "markdown",
   "id": "8428ba9a",
   "metadata": {},
   "source": [
    "# Setup"
   ]
  },
  {
   "cell_type": "code",
   "execution_count": 30,
   "id": "4562a1b4",
   "metadata": {},
   "outputs": [],
   "source": [
    "# was needed to download files from repo\n",
    "\n",
    "# Download TorchVision repo to use some files from\n",
    "# references/detection\n",
    "# !git clone https://github.com/pytorch/vision.git\n",
    "# !cd vision\n",
    "# !git checkout v0.3.0\n",
    "\n",
    "# !cp references/detection/utils.py ../\n",
    "# !cp references/detection/transforms.py ../\n",
    "# !cp references/detection/coco_eval.py ../\n",
    "# !cp references/detection/engine.py ../\n",
    "# !cp references/detection/coco_utils.py ../"
   ]
  },
  {
   "attachments": {},
   "cell_type": "markdown",
   "id": "b8809d0c",
   "metadata": {},
   "source": [
    "# Imports"
   ]
  },
  {
   "cell_type": "code",
   "execution_count": 74,
   "id": "ead2de20",
   "metadata": {},
   "outputs": [],
   "source": [
    "import fiftyone as fo\n",
    "import fiftyone.utils.coco as fouc\n",
    "from PIL import Image\n",
    "\n",
    "import torch\n",
    "import torch.nn as nn\n",
    "import torch.utils\n",
    "import torch.utils.data\n",
    "from train import train_one_epoch, evaluate\n",
    "import torchvision\n",
    "from torchvision.models.segmentation import fcn_resnet50, FCN_ResNet50_Weights\n",
    "import matplotlib.pyplot as plt\n",
    "import os\n",
    "import utils\n",
    "from DatasetLoaders import HRSIDDataset"
   ]
  },
  {
   "attachments": {},
   "cell_type": "markdown",
   "id": "dbcaff5c",
   "metadata": {},
   "source": [
    "# loading data into fiftyone"
   ]
  },
  {
   "cell_type": "code",
   "execution_count": null,
   "id": "c02744d1",
   "metadata": {},
   "outputs": [],
   "source": [
    "# Loading Dataset\n",
    "\n",
    "name = \"HRSID\"\n",
    "dataset_dir = os.path.abspath(\"Datasets/HRSID\")\n",
    "\n",
    "# The type of the dataset being imported\n",
    "dataset_type = fo.types.COCODetectionDataset\n",
    "\n",
    "dataset_traintest = fo.Dataset.from_dir(\n",
    "    dataset_dir=dataset_dir,\n",
    "    dataset_type=dataset_type,\n",
    "    name=name,\n",
    ")"
   ]
  },
  {
   "cell_type": "code",
   "execution_count": null,
   "id": "f0d4b52f",
   "metadata": {},
   "outputs": [
    {
     "name": "stdout",
     "output_type": "stream",
     "text": [
      " 100% |███████████████| 3642/3642 [19.5s elapsed, 0s remaining, 171.2 samples/s]      \n"
     ]
    }
   ],
   "source": [
    "name = \"HRSID_train\"\n",
    "dataset_dir = os.path.abspath(\"Datasets/HRSID\")\n",
    "label_path = os.path.abspath(\"Datasets/HRSID/annotations/train2017.json\")\n",
    "# The type of the dataset being imported\n",
    "dataset_type = fo.types.COCODetectionDataset\n",
    "\n",
    "dataset_train = fo.Dataset.from_dir(\n",
    "    dataset_dir=dataset_dir,\n",
    "    dataset_type=dataset_type,\n",
    "    name=name,\n",
    "    labels_path=label_path\n",
    ")"
   ]
  },
  {
   "cell_type": "code",
   "execution_count": null,
   "id": "0b8e7141",
   "metadata": {},
   "outputs": [
    {
     "name": "stdout",
     "output_type": "stream",
     "text": [
      " 100% |███████████████| 1962/1962 [10.3s elapsed, 0s remaining, 107.5 samples/s]     \n"
     ]
    }
   ],
   "source": [
    "name = \"HRSID_test\"\n",
    "dataset_dir = os.path.abspath(\"Datasets/HRSID\")\n",
    "label_path = os.path.abspath(\"Datasets/HRSID/annotations/test2017.json\")\n",
    "# The type of the dataset being imported\n",
    "dataset_type = fo.types.COCODetectionDataset\n",
    "\n",
    "dataset_test = fo.Dataset.from_dir(\n",
    "    dataset_dir=dataset_dir,\n",
    "    dataset_type=dataset_type,\n",
    "    name=name,\n",
    "    labels_path=label_path\n",
    ")"
   ]
  },
  {
   "cell_type": "code",
   "execution_count": null,
   "id": "2f1b3308",
   "metadata": {},
   "outputs": [],
   "source": [
    "dataset_train.compute_metadata()\n",
    "dataset_test.compute_metadata()"
   ]
  },
  {
   "attachments": {},
   "cell_type": "markdown",
   "id": "e49c0e41",
   "metadata": {},
   "source": [
    "# explore fiftyone useage"
   ]
  },
  {
   "cell_type": "code",
   "execution_count": null,
   "id": "3e82a450",
   "metadata": {},
   "outputs": [
    {
     "data": {
      "text/plain": [
       "<ImageMetadata: {\n",
       "    'size_bytes': None,\n",
       "    'mime_type': None,\n",
       "    'width': 800,\n",
       "    'height': 800,\n",
       "    'num_channels': None,\n",
       "}>"
      ]
     },
     "execution_count": 7,
     "metadata": {},
     "output_type": "execute_result"
    }
   ],
   "source": [
    "paths = dataset_train.values(\"filepath\")\n",
    "sample = dataset_train[paths[1]]\n",
    "sample.metadata"
   ]
  },
  {
   "cell_type": "code",
   "execution_count": null,
   "id": "94472932",
   "metadata": {},
   "outputs": [],
   "source": [
    "#sample"
   ]
  },
  {
   "cell_type": "code",
   "execution_count": 53,
   "id": "62d3b6f0",
   "metadata": {},
   "outputs": [],
   "source": [
    "img = Image.open(paths[1]).convert(\"RGB\")\n",
    "detections = sample[\"detections\"].detections\n",
    "segmentations = sample[\"segmentations\"].detections"
   ]
  },
  {
   "cell_type": "code",
   "execution_count": 54,
   "id": "40cf5fab",
   "metadata": {},
   "outputs": [],
   "source": [
    "classes = dataset_train.distinct(\"%s.detections.label\" % \"segmentations\")"
   ]
  },
  {
   "cell_type": "code",
   "execution_count": 82,
   "id": "7122423e",
   "metadata": {},
   "outputs": [
    {
     "data": {
      "text/plain": [
       "[<Detection: {\n",
       "     'id': '643908295d834f7b1f102069',\n",
       "     'attributes': {},\n",
       "     'tags': [],\n",
       "     'label': 'ship',\n",
       "     'bounding_box': [0.3825, 0.65, 0.01625, 0.045],\n",
       "     'mask': array([[False,  True,  True,  True, False, False, False, False, False,\n",
       "             False, False, False, False],\n",
       "            [ True,  True,  True,  True,  True,  True, False, False, False,\n",
       "             False, False, False, False],\n",
       "            [ True,  True,  True,  True,  True,  True, False, False, False,\n",
       "             False, False, False, False],\n",
       "            [ True,  True,  True,  True,  True,  True, False, False, False,\n",
       "             False, False, False, False],\n",
       "            [ True,  True,  True,  True,  True,  True, False, False, False,\n",
       "             False, False, False, False],\n",
       "            [ True,  True,  True,  True,  True,  True,  True, False, False,\n",
       "             False, False, False, False],\n",
       "            [ True,  True,  True,  True,  True,  True,  True, False, False,\n",
       "             False, False, False, False],\n",
       "            [ True,  True,  True,  True,  True,  True,  True, False, False,\n",
       "             False, False, False, False],\n",
       "            [False,  True,  True,  True,  True,  True,  True, False, False,\n",
       "             False, False, False, False],\n",
       "            [False,  True,  True,  True,  True,  True,  True,  True, False,\n",
       "             False, False, False, False],\n",
       "            [False,  True,  True,  True,  True,  True,  True,  True, False,\n",
       "             False, False, False, False],\n",
       "            [False,  True,  True,  True,  True,  True,  True,  True, False,\n",
       "             False, False, False, False],\n",
       "            [False, False,  True,  True,  True,  True,  True,  True, False,\n",
       "             False, False, False, False],\n",
       "            [False, False,  True,  True,  True,  True,  True,  True,  True,\n",
       "             False, False, False, False],\n",
       "            [False, False,  True,  True,  True,  True,  True,  True,  True,\n",
       "             False, False, False, False],\n",
       "            [False, False,  True,  True,  True,  True,  True,  True,  True,\n",
       "             False, False, False, False],\n",
       "            [False, False, False,  True,  True,  True,  True,  True,  True,\n",
       "              True, False, False, False],\n",
       "            [False, False, False,  True,  True,  True,  True,  True,  True,\n",
       "              True, False, False, False],\n",
       "            [False, False, False,  True,  True,  True,  True,  True,  True,\n",
       "              True, False, False, False],\n",
       "            [False, False, False,  True,  True,  True,  True,  True,  True,\n",
       "              True,  True, False, False],\n",
       "            [False, False, False, False,  True,  True,  True,  True,  True,\n",
       "              True,  True, False, False],\n",
       "            [False, False, False, False,  True,  True,  True,  True,  True,\n",
       "              True,  True, False, False],\n",
       "            [False, False, False, False,  True,  True,  True,  True,  True,\n",
       "              True,  True, False, False],\n",
       "            [False, False, False, False,  True,  True,  True,  True,  True,\n",
       "              True,  True,  True, False],\n",
       "            [False, False, False, False, False,  True,  True,  True,  True,\n",
       "              True,  True,  True, False],\n",
       "            [False, False, False, False, False,  True,  True,  True,  True,\n",
       "              True,  True,  True, False],\n",
       "            [False, False, False, False, False,  True,  True,  True,  True,\n",
       "              True,  True,  True, False],\n",
       "            [False, False, False, False, False,  True,  True,  True,  True,\n",
       "              True,  True,  True, False],\n",
       "            [False, False, False, False, False, False,  True,  True,  True,\n",
       "              True,  True,  True, False],\n",
       "            [False, False, False, False, False, False,  True,  True,  True,\n",
       "              True,  True,  True, False],\n",
       "            [False, False, False, False, False, False,  True,  True,  True,\n",
       "              True,  True,  True, False],\n",
       "            [False, False, False, False, False, False, False,  True,  True,\n",
       "              True,  True,  True, False],\n",
       "            [False, False, False, False, False, False, False,  True,  True,\n",
       "              True,  True,  True, False],\n",
       "            [False, False, False, False, False, False, False, False,  True,\n",
       "              True,  True, False, False],\n",
       "            [False, False, False, False, False, False, False, False, False,\n",
       "              True, False, False, False],\n",
       "            [False, False, False, False, False, False, False, False, False,\n",
       "             False, False, False, False]]),\n",
       "     'confidence': None,\n",
       "     'index': None,\n",
       "     'iscrowd': 0,\n",
       " }>,\n",
       " <Detection: {\n",
       "     'id': '643908295d834f7b1f10206a',\n",
       "     'attributes': {},\n",
       "     'tags': [],\n",
       "     'label': 'ship',\n",
       "     'bounding_box': [0.9225, 0.94375, 0.025, 0.025],\n",
       "     'mask': array([[False, False,  True,  True,  True, False, False, False, False,\n",
       "             False, False, False, False, False, False, False, False, False,\n",
       "             False, False],\n",
       "            [False,  True,  True,  True,  True,  True,  True, False, False,\n",
       "             False, False, False, False, False, False, False, False, False,\n",
       "             False, False],\n",
       "            [ True,  True,  True,  True,  True,  True,  True,  True, False,\n",
       "             False, False, False, False, False, False, False, False, False,\n",
       "             False, False],\n",
       "            [ True,  True,  True,  True,  True,  True,  True,  True,  True,\n",
       "             False, False, False, False, False, False, False, False, False,\n",
       "             False, False],\n",
       "            [ True,  True,  True,  True,  True,  True,  True,  True,  True,\n",
       "              True, False, False, False, False, False, False, False, False,\n",
       "             False, False],\n",
       "            [ True,  True,  True,  True,  True,  True,  True,  True,  True,\n",
       "              True,  True,  True, False, False, False, False, False, False,\n",
       "             False, False],\n",
       "            [ True,  True,  True,  True,  True,  True,  True,  True,  True,\n",
       "              True,  True,  True,  True, False, False, False, False, False,\n",
       "             False, False],\n",
       "            [False,  True,  True,  True,  True,  True,  True,  True,  True,\n",
       "              True,  True,  True,  True,  True, False, False, False, False,\n",
       "             False, False],\n",
       "            [False,  True,  True,  True,  True,  True,  True,  True,  True,\n",
       "              True,  True,  True,  True,  True,  True, False, False, False,\n",
       "             False, False],\n",
       "            [False, False,  True,  True,  True,  True,  True,  True,  True,\n",
       "              True,  True,  True,  True,  True,  True,  True, False, False,\n",
       "             False, False],\n",
       "            [False, False, False,  True,  True,  True,  True,  True,  True,\n",
       "              True,  True,  True,  True,  True,  True,  True,  True, False,\n",
       "             False, False],\n",
       "            [False, False, False, False,  True,  True,  True,  True,  True,\n",
       "              True,  True,  True,  True,  True,  True,  True,  True,  True,\n",
       "             False, False],\n",
       "            [False, False, False, False, False, False,  True,  True,  True,\n",
       "              True,  True,  True,  True,  True,  True,  True,  True,  True,\n",
       "             False, False],\n",
       "            [False, False, False, False, False, False, False,  True,  True,\n",
       "              True,  True,  True,  True,  True,  True,  True,  True,  True,\n",
       "              True, False],\n",
       "            [False, False, False, False, False, False, False, False,  True,\n",
       "              True,  True,  True,  True,  True,  True,  True,  True,  True,\n",
       "              True, False],\n",
       "            [False, False, False, False, False, False, False, False, False,\n",
       "             False,  True,  True,  True,  True,  True,  True,  True,  True,\n",
       "              True, False],\n",
       "            [False, False, False, False, False, False, False, False, False,\n",
       "             False, False,  True,  True,  True,  True,  True,  True,  True,\n",
       "              True, False],\n",
       "            [False, False, False, False, False, False, False, False, False,\n",
       "             False, False, False,  True,  True,  True,  True,  True,  True,\n",
       "             False, False],\n",
       "            [False, False, False, False, False, False, False, False, False,\n",
       "             False, False, False, False, False,  True,  True,  True, False,\n",
       "             False, False],\n",
       "            [False, False, False, False, False, False, False, False, False,\n",
       "             False, False, False, False, False, False, False, False, False,\n",
       "             False, False]]),\n",
       "     'confidence': None,\n",
       "     'index': None,\n",
       "     'iscrowd': 0,\n",
       " }>,\n",
       " <Detection: {\n",
       "     'id': '643908295d834f7b1f10206b',\n",
       "     'attributes': {},\n",
       "     'tags': [],\n",
       "     'label': 'ship',\n",
       "     'bounding_box': [0.02375, 0.975, 0.0275, 0.005],\n",
       "     'mask': array([[False,  True,  True,  True,  True,  True,  True,  True,  True,\n",
       "              True,  True,  True,  True,  True,  True,  True,  True,  True,\n",
       "              True,  True,  True, False],\n",
       "            [ True,  True,  True,  True,  True,  True,  True,  True,  True,\n",
       "              True,  True,  True,  True,  True,  True,  True,  True,  True,\n",
       "              True,  True,  True, False],\n",
       "            [False, False,  True,  True,  True,  True,  True,  True,  True,\n",
       "              True,  True,  True,  True,  True,  True,  True,  True,  True,\n",
       "              True,  True, False, False],\n",
       "            [False, False, False, False, False, False, False, False, False,\n",
       "             False, False, False, False, False, False, False, False, False,\n",
       "             False, False, False, False]]),\n",
       "     'confidence': None,\n",
       "     'index': None,\n",
       "     'iscrowd': 0,\n",
       " }>,\n",
       " <Detection: {\n",
       "     'id': '643908295d834f7b1f10206c',\n",
       "     'attributes': {},\n",
       "     'tags': [],\n",
       "     'label': 'ship',\n",
       "     'bounding_box': [0.595, 0.85625, 0.04125, 0.05625],\n",
       "     'mask': array([[False, False, False, ..., False, False, False],\n",
       "            [False, False, False, ..., False, False, False],\n",
       "            [False, False, False, ..., False, False, False],\n",
       "            ...,\n",
       "            [False, False, False, ..., False, False, False],\n",
       "            [False, False, False, ..., False, False, False],\n",
       "            [False, False, False, ..., False, False, False]]),\n",
       "     'confidence': None,\n",
       "     'index': None,\n",
       "     'iscrowd': 0,\n",
       " }>,\n",
       " <Detection: {\n",
       "     'id': '643908295d834f7b1f10206d',\n",
       "     'attributes': {},\n",
       "     'tags': [],\n",
       "     'label': 'ship',\n",
       "     'bounding_box': [0.6625, 0.74375, 0.0675, 0.01625],\n",
       "     'mask': array([[False, False, False, False, False, False, False, False, False,\n",
       "             False, False, False, False, False, False, False, False, False,\n",
       "             False,  True,  True,  True,  True,  True,  True,  True,  True,\n",
       "              True,  True,  True,  True,  True, False, False, False, False,\n",
       "             False, False, False, False, False, False, False, False, False,\n",
       "             False, False, False, False, False, False, False, False, False],\n",
       "            [False, False, False, False, False, False, False, False, False,\n",
       "             False, False, False, False,  True,  True,  True,  True,  True,\n",
       "              True,  True,  True,  True,  True,  True,  True,  True,  True,\n",
       "              True,  True,  True,  True,  True,  True,  True,  True,  True,\n",
       "              True,  True,  True,  True,  True,  True,  True,  True, False,\n",
       "             False, False, False, False, False, False, False, False, False],\n",
       "            [False,  True,  True,  True,  True,  True,  True,  True,  True,\n",
       "              True,  True,  True,  True,  True,  True,  True,  True,  True,\n",
       "              True,  True,  True,  True,  True,  True,  True,  True,  True,\n",
       "              True,  True,  True,  True,  True,  True,  True,  True,  True,\n",
       "              True,  True,  True,  True,  True,  True,  True,  True,  True,\n",
       "              True,  True, False, False, False, False, False, False, False],\n",
       "            [ True,  True,  True,  True,  True,  True,  True,  True,  True,\n",
       "              True,  True,  True,  True,  True,  True,  True,  True,  True,\n",
       "              True,  True,  True,  True,  True,  True,  True,  True,  True,\n",
       "              True,  True,  True,  True,  True,  True,  True,  True,  True,\n",
       "              True,  True,  True,  True,  True,  True,  True,  True,  True,\n",
       "              True,  True,  True,  True, False, False, False, False, False],\n",
       "            [False, False,  True,  True,  True,  True,  True,  True,  True,\n",
       "              True,  True,  True,  True,  True,  True,  True,  True,  True,\n",
       "              True,  True,  True,  True,  True,  True,  True,  True,  True,\n",
       "              True,  True,  True,  True,  True,  True,  True,  True,  True,\n",
       "              True,  True,  True,  True,  True,  True,  True,  True,  True,\n",
       "              True,  True,  True,  True,  True,  True, False, False, False],\n",
       "            [False, False, False, False, False,  True,  True,  True,  True,\n",
       "              True,  True,  True,  True,  True,  True,  True,  True,  True,\n",
       "              True,  True,  True,  True,  True,  True,  True,  True,  True,\n",
       "              True,  True,  True,  True,  True,  True,  True,  True,  True,\n",
       "              True,  True,  True,  True,  True,  True,  True,  True,  True,\n",
       "              True,  True,  True,  True,  True,  True,  True, False, False],\n",
       "            [False, False, False, False, False, False, False,  True,  True,\n",
       "              True,  True,  True,  True,  True,  True,  True,  True,  True,\n",
       "              True,  True,  True,  True,  True,  True,  True,  True,  True,\n",
       "              True,  True,  True,  True,  True,  True,  True,  True,  True,\n",
       "              True,  True,  True,  True,  True,  True,  True,  True,  True,\n",
       "              True,  True,  True,  True,  True,  True,  True, False, False],\n",
       "            [False, False, False, False, False, False, False, False, False,\n",
       "              True,  True,  True,  True,  True,  True,  True,  True,  True,\n",
       "              True,  True,  True,  True,  True,  True,  True,  True,  True,\n",
       "              True,  True,  True,  True,  True,  True,  True,  True,  True,\n",
       "              True,  True,  True,  True,  True,  True,  True,  True,  True,\n",
       "              True,  True,  True,  True,  True,  True,  True,  True, False],\n",
       "            [False, False, False, False, False, False, False, False, False,\n",
       "             False, False, False,  True,  True,  True,  True,  True,  True,\n",
       "              True,  True,  True,  True,  True,  True,  True,  True,  True,\n",
       "              True,  True,  True,  True,  True,  True,  True,  True,  True,\n",
       "              True,  True,  True,  True,  True,  True,  True,  True,  True,\n",
       "              True,  True,  True,  True,  True,  True, False, False, False],\n",
       "            [False, False, False, False, False, False, False, False, False,\n",
       "             False, False, False, False, False, False, False, False, False,\n",
       "             False, False, False,  True,  True,  True,  True,  True,  True,\n",
       "              True,  True,  True,  True,  True,  True,  True,  True,  True,\n",
       "              True,  True,  True,  True,  True,  True,  True,  True,  True,\n",
       "              True,  True, False, False, False, False, False, False, False],\n",
       "            [False, False, False, False, False, False, False, False, False,\n",
       "             False, False, False, False, False, False, False, False, False,\n",
       "             False, False, False, False, False, False, False, False, False,\n",
       "             False, False,  True,  True,  True,  True,  True,  True,  True,\n",
       "              True,  True,  True,  True,  True,  True,  True, False, False,\n",
       "             False, False, False, False, False, False, False, False, False],\n",
       "            [False, False, False, False, False, False, False, False, False,\n",
       "             False, False, False, False, False, False, False, False, False,\n",
       "             False, False, False, False, False, False, False, False, False,\n",
       "             False, False, False, False,  True,  True,  True,  True,  True,\n",
       "              True,  True,  True,  True, False, False, False, False, False,\n",
       "             False, False, False, False, False, False, False, False, False],\n",
       "            [False, False, False, False, False, False, False, False, False,\n",
       "             False, False, False, False, False, False, False, False, False,\n",
       "             False, False, False, False, False, False, False, False, False,\n",
       "             False, False, False, False, False, False, False, False, False,\n",
       "             False, False, False, False, False, False, False, False, False,\n",
       "             False, False, False, False, False, False, False, False, False]]),\n",
       "     'confidence': None,\n",
       "     'index': None,\n",
       "     'iscrowd': 0,\n",
       " }>]"
      ]
     },
     "execution_count": 82,
     "metadata": {},
     "output_type": "execute_result"
    }
   ],
   "source": [
    "segmentations"
   ]
  },
  {
   "cell_type": "code",
   "execution_count": 55,
   "id": "a993ae41",
   "metadata": {},
   "outputs": [
    {
     "data": {
      "text/plain": [
       "{'ship': 0}"
      ]
     },
     "execution_count": 55,
     "metadata": {},
     "output_type": "execute_result"
    }
   ],
   "source": [
    "labels_map_rev = {c: i for i, c in enumerate(classes)}\n",
    "labels_map_rev\n"
   ]
  },
  {
   "cell_type": "code",
   "execution_count": 83,
   "id": "e4a1e976",
   "metadata": {},
   "outputs": [],
   "source": [
    "for det in segmentations:\n",
    "    category_id=labels_map_rev[det.label]\n",
    "    coco_obj=fouc.COCOObject.from_label(det, sample.metadata, category_id=category_id)\n",
    "    x,y,w,h=coco_obj.bbox"
   ]
  },
  {
   "cell_type": "code",
   "execution_count": 80,
   "id": "a4eadd24",
   "metadata": {},
   "outputs": [
    {
     "data": {
      "text/plain": [
       "tensor([[[569., 606., 542., 604., 530., 598., 561., 594., 576., 596., 582.,\n",
       "          602., 569., 606.]]])"
      ]
     },
     "execution_count": 80,
     "metadata": {},
     "output_type": "execute_result"
    }
   ],
   "source": [
    "torch.round(torch.as_tensor([coco_obj.segmentation], dtype=torch.float))"
   ]
  },
  {
   "cell_type": "code",
   "execution_count": 45,
   "id": "ca678797",
   "metadata": {},
   "outputs": [],
   "source": [
    "#segmentations"
   ]
  },
  {
   "cell_type": "code",
   "execution_count": null,
   "id": "256fa90c",
   "metadata": {},
   "outputs": [
    {
     "data": {
      "text/html": [
       "\n",
       "        <iframe\n",
       "            width=\"100%\"\n",
       "            height=\"800\"\n",
       "            src=\"http://localhost:5151/?notebook=True&subscription=81feba80-32d0-4adf-9479-53eb0e02289f\"\n",
       "            frameborder=\"0\"\n",
       "            allowfullscreen\n",
       "            \n",
       "        ></iframe>\n",
       "        "
      ],
      "text/plain": [
       "<IPython.lib.display.IFrame at 0x7f44b2782740>"
      ]
     },
     "metadata": {},
     "output_type": "display_data"
    }
   ],
   "source": [
    "session = fo.launch_app()"
   ]
  },
  {
   "attachments": {},
   "cell_type": "markdown",
   "id": "e51f040a",
   "metadata": {},
   "source": [
    "# Training ResNet Model"
   ]
  },
  {
   "cell_type": "code",
   "execution_count": 75,
   "id": "ec2c4deb",
   "metadata": {},
   "outputs": [],
   "source": [
    "def get_model(num_classes):\n",
    "    weights = FCN_ResNet50_Weights.DEFAULT\n",
    "    model = fcn_resnet50(weights=weights, classes=num_classes)\n",
    "\n",
    "    return model"
   ]
  },
  {
   "cell_type": "code",
   "execution_count": 76,
   "id": "2d3c0b48",
   "metadata": {},
   "outputs": [],
   "source": [
    "def do_training(model, torch_dataset, torch_dataset_test, num_epochs=4):\n",
    "    data_loader = torch.utils.data.DataLoader(\n",
    "        torch_dataset, batch_size=2, shuffle=True, num_workers=2,\n",
    "        collate_fn=utils.collate_fn\n",
    "    )\n",
    "    data_loader_test = torch.utils.data.DataLoader(\n",
    "        torch_dataset_test, batch_size=1, shuffle=False, num_workers=2,\n",
    "        collate_fn=utils.collate_fn\n",
    "    )\n",
    "    device = torch.device('cuda' if torch.cuda.is_available() else 'cpu')\n",
    "    print(f\"Using {device}\")\n",
    "    model.to(device)\n",
    "\n",
    "    params = [p for p in model.parameters() if p.requires_grad]\n",
    "    criterion = torch.nn.CrossEntropyLoss()\n",
    "    optimizer = torch.optim.SGD(params, lr=0.001,\n",
    "                                momentum=0.9, weight_decay=0.0005)\n",
    "\n",
    "    lr_scheduler = torch.optim.lr_scheduler.StepLR(optimizer,\n",
    "                                                    step_size=5,\n",
    "                                                    gamma=0.1)\n",
    "    for epoch in range(num_epochs):\n",
    "        train_one_epoch(model=model,\n",
    "                        criterion=criterion,\n",
    "                        optimizer=optimizer, \n",
    "                        data_loader=data_loader,\n",
    "                        lr_scheduler=lr_scheduler,\n",
    "                        device=device, \n",
    "                        epoch=epoch, \n",
    "                        print_freq=10)\n",
    "\n",
    "        evaluate(model=model, data_loader=data_loader_test, device=device)"
   ]
  },
  {
   "cell_type": "code",
   "execution_count": 77,
   "id": "234e99fa",
   "metadata": {},
   "outputs": [],
   "source": [
    "HRSID_train = HRSIDDataset(dataset_train)\n",
    "HRSID_test = HRSIDDataset(dataset_test)"
   ]
  },
  {
   "cell_type": "code",
   "execution_count": 78,
   "id": "77d45d8a",
   "metadata": {},
   "outputs": [],
   "source": [
    "model = get_model(2)"
   ]
  },
  {
   "cell_type": "code",
   "execution_count": 79,
   "id": "ee8edf58",
   "metadata": {},
   "outputs": [
    {
     "name": "stdout",
     "output_type": "stream",
     "text": [
      "Using cuda\n"
     ]
    },
    {
     "ename": "RuntimeError",
     "evalue": "Caught RuntimeError in DataLoader worker process 0.\nOriginal Traceback (most recent call last):\n  File \"/home/k3vinli/miniconda3/envs/torch-38/lib/python3.10/site-packages/torch/utils/data/_utils/worker.py\", line 308, in _worker_loop\n    data = fetcher.fetch(index)\n  File \"/home/k3vinli/miniconda3/envs/torch-38/lib/python3.10/site-packages/torch/utils/data/_utils/fetch.py\", line 51, in fetch\n    data = [self.dataset[idx] for idx in possibly_batched_index]\n  File \"/home/k3vinli/miniconda3/envs/torch-38/lib/python3.10/site-packages/torch/utils/data/_utils/fetch.py\", line 51, in <listcomp>\n    data = [self.dataset[idx] for idx in possibly_batched_index]\n  File \"/home/k3vinli/ENEE439/Capstone/DatasetLoaders.py\", line 67, in __getitem__\n    target[\"masks\"] = torch.round(torch.as_tensor(masks, dtype=torch.float))\nRuntimeError: value cannot be converted to type uint8 without overflow\n",
     "output_type": "error",
     "traceback": [
      "\u001b[0;31m---------------------------------------------------------------------------\u001b[0m",
      "\u001b[0;31mRuntimeError\u001b[0m                              Traceback (most recent call last)",
      "Cell \u001b[0;32mIn[79], line 1\u001b[0m\n\u001b[0;32m----> 1\u001b[0m do_training(model, HRSID_train, HRSID_test, num_epochs\u001b[39m=\u001b[39;49m\u001b[39m20\u001b[39;49m)\n",
      "Cell \u001b[0;32mIn[76], line 23\u001b[0m, in \u001b[0;36mdo_training\u001b[0;34m(model, torch_dataset, torch_dataset_test, num_epochs)\u001b[0m\n\u001b[1;32m     19\u001b[0m lr_scheduler \u001b[39m=\u001b[39m torch\u001b[39m.\u001b[39moptim\u001b[39m.\u001b[39mlr_scheduler\u001b[39m.\u001b[39mStepLR(optimizer,\n\u001b[1;32m     20\u001b[0m                                                 step_size\u001b[39m=\u001b[39m\u001b[39m5\u001b[39m,\n\u001b[1;32m     21\u001b[0m                                                 gamma\u001b[39m=\u001b[39m\u001b[39m0.1\u001b[39m)\n\u001b[1;32m     22\u001b[0m \u001b[39mfor\u001b[39;00m epoch \u001b[39min\u001b[39;00m \u001b[39mrange\u001b[39m(num_epochs):\n\u001b[0;32m---> 23\u001b[0m     train_one_epoch(model\u001b[39m=\u001b[39;49mmodel,\n\u001b[1;32m     24\u001b[0m                     criterion\u001b[39m=\u001b[39;49mcriterion,\n\u001b[1;32m     25\u001b[0m                     optimizer\u001b[39m=\u001b[39;49moptimizer, \n\u001b[1;32m     26\u001b[0m                     data_loader\u001b[39m=\u001b[39;49mdata_loader,\n\u001b[1;32m     27\u001b[0m                     lr_scheduler\u001b[39m=\u001b[39;49mlr_scheduler,\n\u001b[1;32m     28\u001b[0m                     device\u001b[39m=\u001b[39;49mdevice, \n\u001b[1;32m     29\u001b[0m                     epoch\u001b[39m=\u001b[39;49mepoch, \n\u001b[1;32m     30\u001b[0m                     print_freq\u001b[39m=\u001b[39;49m\u001b[39m10\u001b[39;49m)\n\u001b[1;32m     32\u001b[0m     evaluate(model\u001b[39m=\u001b[39mmodel, data_loader\u001b[39m=\u001b[39mdata_loader_test, device\u001b[39m=\u001b[39mdevice)\n",
      "File \u001b[0;32m~/ENEE439/Capstone/train.py:81\u001b[0m, in \u001b[0;36mtrain_one_epoch\u001b[0;34m(model, criterion, optimizer, data_loader, lr_scheduler, device, epoch, print_freq)\u001b[0m\n\u001b[1;32m     79\u001b[0m metric_logger\u001b[39m.\u001b[39madd_meter(\u001b[39m'\u001b[39m\u001b[39mlr\u001b[39m\u001b[39m'\u001b[39m, utils\u001b[39m.\u001b[39mSmoothedValue(window_size\u001b[39m=\u001b[39m\u001b[39m1\u001b[39m, fmt\u001b[39m=\u001b[39m\u001b[39m'\u001b[39m\u001b[39m{value}\u001b[39;00m\u001b[39m'\u001b[39m))\n\u001b[1;32m     80\u001b[0m header \u001b[39m=\u001b[39m \u001b[39m'\u001b[39m\u001b[39mEpoch: [\u001b[39m\u001b[39m{}\u001b[39;00m\u001b[39m]\u001b[39m\u001b[39m'\u001b[39m\u001b[39m.\u001b[39mformat(epoch)\n\u001b[0;32m---> 81\u001b[0m \u001b[39mfor\u001b[39;00m image, target \u001b[39min\u001b[39;00m metric_logger\u001b[39m.\u001b[39mlog_every(data_loader, print_freq, header):\n\u001b[1;32m     82\u001b[0m     image, target \u001b[39m=\u001b[39m image\u001b[39m.\u001b[39mto(device), target\u001b[39m.\u001b[39mto(device)\n\u001b[1;32m     83\u001b[0m     output \u001b[39m=\u001b[39m model(image)\n",
      "File \u001b[0;32m~/ENEE439/Capstone/utils.py:174\u001b[0m, in \u001b[0;36mMetricLogger.log_every\u001b[0;34m(self, iterable, print_freq, header)\u001b[0m\n\u001b[1;32m    164\u001b[0m log_msg \u001b[39m=\u001b[39m \u001b[39mself\u001b[39m\u001b[39m.\u001b[39mdelimiter\u001b[39m.\u001b[39mjoin([\n\u001b[1;32m    165\u001b[0m     header,\n\u001b[1;32m    166\u001b[0m     \u001b[39m'\u001b[39m\u001b[39m[\u001b[39m\u001b[39m{\u001b[39m\u001b[39m0\u001b[39m\u001b[39m'\u001b[39m \u001b[39m+\u001b[39m space_fmt \u001b[39m+\u001b[39m \u001b[39m'\u001b[39m\u001b[39m}/\u001b[39m\u001b[39m{1}\u001b[39;00m\u001b[39m]\u001b[39m\u001b[39m'\u001b[39m,\n\u001b[0;32m   (...)\u001b[0m\n\u001b[1;32m    171\u001b[0m     \u001b[39m'\u001b[39m\u001b[39mmax mem: \u001b[39m\u001b[39m{memory:.0f}\u001b[39;00m\u001b[39m'\u001b[39m\n\u001b[1;32m    172\u001b[0m ])\n\u001b[1;32m    173\u001b[0m MB \u001b[39m=\u001b[39m \u001b[39m1024.0\u001b[39m \u001b[39m*\u001b[39m \u001b[39m1024.0\u001b[39m\n\u001b[0;32m--> 174\u001b[0m \u001b[39mfor\u001b[39;00m obj \u001b[39min\u001b[39;00m iterable:\n\u001b[1;32m    175\u001b[0m     data_time\u001b[39m.\u001b[39mupdate(time\u001b[39m.\u001b[39mtime() \u001b[39m-\u001b[39m end)\n\u001b[1;32m    176\u001b[0m     \u001b[39myield\u001b[39;00m obj\n",
      "File \u001b[0;32m~/miniconda3/envs/torch-38/lib/python3.10/site-packages/torch/utils/data/dataloader.py:634\u001b[0m, in \u001b[0;36m_BaseDataLoaderIter.__next__\u001b[0;34m(self)\u001b[0m\n\u001b[1;32m    631\u001b[0m \u001b[39mif\u001b[39;00m \u001b[39mself\u001b[39m\u001b[39m.\u001b[39m_sampler_iter \u001b[39mis\u001b[39;00m \u001b[39mNone\u001b[39;00m:\n\u001b[1;32m    632\u001b[0m     \u001b[39m# TODO(https://github.com/pytorch/pytorch/issues/76750)\u001b[39;00m\n\u001b[1;32m    633\u001b[0m     \u001b[39mself\u001b[39m\u001b[39m.\u001b[39m_reset()  \u001b[39m# type: ignore[call-arg]\u001b[39;00m\n\u001b[0;32m--> 634\u001b[0m data \u001b[39m=\u001b[39m \u001b[39mself\u001b[39;49m\u001b[39m.\u001b[39;49m_next_data()\n\u001b[1;32m    635\u001b[0m \u001b[39mself\u001b[39m\u001b[39m.\u001b[39m_num_yielded \u001b[39m+\u001b[39m\u001b[39m=\u001b[39m \u001b[39m1\u001b[39m\n\u001b[1;32m    636\u001b[0m \u001b[39mif\u001b[39;00m \u001b[39mself\u001b[39m\u001b[39m.\u001b[39m_dataset_kind \u001b[39m==\u001b[39m _DatasetKind\u001b[39m.\u001b[39mIterable \u001b[39mand\u001b[39;00m \\\n\u001b[1;32m    637\u001b[0m         \u001b[39mself\u001b[39m\u001b[39m.\u001b[39m_IterableDataset_len_called \u001b[39mis\u001b[39;00m \u001b[39mnot\u001b[39;00m \u001b[39mNone\u001b[39;00m \u001b[39mand\u001b[39;00m \\\n\u001b[1;32m    638\u001b[0m         \u001b[39mself\u001b[39m\u001b[39m.\u001b[39m_num_yielded \u001b[39m>\u001b[39m \u001b[39mself\u001b[39m\u001b[39m.\u001b[39m_IterableDataset_len_called:\n",
      "File \u001b[0;32m~/miniconda3/envs/torch-38/lib/python3.10/site-packages/torch/utils/data/dataloader.py:1346\u001b[0m, in \u001b[0;36m_MultiProcessingDataLoaderIter._next_data\u001b[0;34m(self)\u001b[0m\n\u001b[1;32m   1344\u001b[0m \u001b[39melse\u001b[39;00m:\n\u001b[1;32m   1345\u001b[0m     \u001b[39mdel\u001b[39;00m \u001b[39mself\u001b[39m\u001b[39m.\u001b[39m_task_info[idx]\n\u001b[0;32m-> 1346\u001b[0m     \u001b[39mreturn\u001b[39;00m \u001b[39mself\u001b[39;49m\u001b[39m.\u001b[39;49m_process_data(data)\n",
      "File \u001b[0;32m~/miniconda3/envs/torch-38/lib/python3.10/site-packages/torch/utils/data/dataloader.py:1372\u001b[0m, in \u001b[0;36m_MultiProcessingDataLoaderIter._process_data\u001b[0;34m(self, data)\u001b[0m\n\u001b[1;32m   1370\u001b[0m \u001b[39mself\u001b[39m\u001b[39m.\u001b[39m_try_put_index()\n\u001b[1;32m   1371\u001b[0m \u001b[39mif\u001b[39;00m \u001b[39misinstance\u001b[39m(data, ExceptionWrapper):\n\u001b[0;32m-> 1372\u001b[0m     data\u001b[39m.\u001b[39;49mreraise()\n\u001b[1;32m   1373\u001b[0m \u001b[39mreturn\u001b[39;00m data\n",
      "File \u001b[0;32m~/miniconda3/envs/torch-38/lib/python3.10/site-packages/torch/_utils.py:644\u001b[0m, in \u001b[0;36mExceptionWrapper.reraise\u001b[0;34m(self)\u001b[0m\n\u001b[1;32m    640\u001b[0m \u001b[39mexcept\u001b[39;00m \u001b[39mTypeError\u001b[39;00m:\n\u001b[1;32m    641\u001b[0m     \u001b[39m# If the exception takes multiple arguments, don't try to\u001b[39;00m\n\u001b[1;32m    642\u001b[0m     \u001b[39m# instantiate since we don't know how to\u001b[39;00m\n\u001b[1;32m    643\u001b[0m     \u001b[39mraise\u001b[39;00m \u001b[39mRuntimeError\u001b[39;00m(msg) \u001b[39mfrom\u001b[39;00m \u001b[39mNone\u001b[39m\n\u001b[0;32m--> 644\u001b[0m \u001b[39mraise\u001b[39;00m exception\n",
      "\u001b[0;31mRuntimeError\u001b[0m: Caught RuntimeError in DataLoader worker process 0.\nOriginal Traceback (most recent call last):\n  File \"/home/k3vinli/miniconda3/envs/torch-38/lib/python3.10/site-packages/torch/utils/data/_utils/worker.py\", line 308, in _worker_loop\n    data = fetcher.fetch(index)\n  File \"/home/k3vinli/miniconda3/envs/torch-38/lib/python3.10/site-packages/torch/utils/data/_utils/fetch.py\", line 51, in fetch\n    data = [self.dataset[idx] for idx in possibly_batched_index]\n  File \"/home/k3vinli/miniconda3/envs/torch-38/lib/python3.10/site-packages/torch/utils/data/_utils/fetch.py\", line 51, in <listcomp>\n    data = [self.dataset[idx] for idx in possibly_batched_index]\n  File \"/home/k3vinli/ENEE439/Capstone/DatasetLoaders.py\", line 67, in __getitem__\n    target[\"masks\"] = torch.round(torch.as_tensor(masks, dtype=torch.float))\nRuntimeError: value cannot be converted to type uint8 without overflow\n"
     ]
    }
   ],
   "source": [
    "do_training(model, HRSID_train, HRSID_test, num_epochs=20)"
   ]
  }
 ],
 "metadata": {
  "kernelspec": {
   "display_name": "Python 3 (ipykernel)",
   "language": "python",
   "name": "python3"
  },
  "language_info": {
   "codemirror_mode": {
    "name": "ipython",
    "version": 3
   },
   "file_extension": ".py",
   "mimetype": "text/x-python",
   "name": "python",
   "nbconvert_exporter": "python",
   "pygments_lexer": "ipython3",
   "version": "3.10.10"
  }
 },
 "nbformat": 4,
 "nbformat_minor": 5
}
